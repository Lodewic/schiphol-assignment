{
 "cells": [
  {
   "cell_type": "code",
   "execution_count": null,
   "metadata": {},
   "outputs": [],
   "source": []
  },
  {
   "cell_type": "code",
   "execution_count": 11,
   "metadata": {},
   "outputs": [],
   "source": [
    "model_input_file = \"../lvt-schiphol-assignment-snakemake/data/model_input/delays_base_input.csv\"\n",
    "train_test_file = \"../lvt-schiphol-assignment-snakemake/data/model_input/train_test__0.2__sample.csv\""
   ]
  },
  {
   "cell_type": "code",
   "execution_count": null,
   "metadata": {},
   "outputs": [],
   "source": []
  },
  {
   "cell_type": "code",
   "execution_count": 12,
   "metadata": {},
   "outputs": [],
   "source": [
    "import pandas as pd\n",
    "import numpy as np\n",
    "from sklearn.pipeline import Pipeline\n",
    "from sklearn.metrics import mean_squared_error\n",
    "from sklearn.model_selection import train_test_split\n",
    "from sklearn.base import BaseEstimator, TransformerMixin\n",
    "\n",
    "import sys\n",
    "sys.path.append(\"../\")\n",
    "\n",
    "from src.data.google_storage_io import read_csv_data, write_csv_data\n",
    "from src.evaluation.regression import get_regression_metrics\n"
   ]
  },
  {
   "cell_type": "code",
   "execution_count": 13,
   "metadata": {},
   "outputs": [
    {
     "name": "stdout",
     "output_type": "stream",
     "text": [
      "Reading file from local directory\n",
      "File:\t../lvt-schiphol-assignment-snakemake/data/model_input/delays_base_input.csv\n",
      "\n",
      "Reading file from local directory\n",
      "File:\t../lvt-schiphol-assignment-snakemake/data/model_input/train_test__0.2__sample.csv\n",
      "\n"
     ]
    }
   ],
   "source": [
    "df = read_csv_data(model_input_file)\n",
    "train_test = read_csv_data(train_test_file)"
   ]
  },
  {
   "cell_type": "code",
   "execution_count": 88,
   "metadata": {},
   "outputs": [
    {
     "data": {
      "text/plain": [
       "(477778,)"
      ]
     },
     "execution_count": 88,
     "metadata": {},
     "output_type": "execute_result"
    }
   ],
   "source": [
    "train_test[\"id\"].drop_duplicates().shape"
   ]
  },
  {
   "cell_type": "code",
   "execution_count": 89,
   "metadata": {},
   "outputs": [
    {
     "data": {
      "text/plain": [
       "(477778,)"
      ]
     },
     "execution_count": 89,
     "metadata": {},
     "output_type": "execute_result"
    }
   ],
   "source": [
    "df[\"id\"].drop_duplicates().shape"
   ]
  },
  {
   "cell_type": "code",
   "execution_count": 87,
   "metadata": {},
   "outputs": [
    {
     "data": {
      "text/plain": [
       "(487716, 487716, 507650)"
      ]
     },
     "execution_count": 87,
     "metadata": {},
     "output_type": "execute_result"
    }
   ],
   "source": [
    "len(train_test), len(df), len(pd.merge(df, train_test, on=\"id\", how=\"left\"))"
   ]
  },
  {
   "cell_type": "code",
   "execution_count": 84,
   "metadata": {},
   "outputs": [
    {
     "name": "stdout",
     "output_type": "stream",
     "text": [
      "406033 101617\n",
      "406033 101617 487716\n"
     ]
    },
    {
     "ename": "AssertionError",
     "evalue": "",
     "output_type": "error",
     "traceback": [
      "\u001b[1;31m---------------------------------------------------------------------------\u001b[0m",
      "\u001b[1;31mAssertionError\u001b[0m                            Traceback (most recent call last)",
      "\u001b[1;32m<timed exec>\u001b[0m in \u001b[0;36m<module>\u001b[1;34m\u001b[0m\n",
      "\u001b[1;32m<timed exec>\u001b[0m in \u001b[0;36msplit_train_test\u001b[1;34m(df, train_test, target)\u001b[0m\n",
      "\u001b[1;31mAssertionError\u001b[0m: "
     ]
    }
   ],
   "source": [
    "%%time\n",
    "\n",
    "def split_train_test(df, train_test, target=\"scheduleDelaySeconds\"):\n",
    "    # merge by `id` and group by train/test set labels\n",
    "    df_set_groups = pd.merge(df, train_test, on=\"id\", how=\"left\").groupby(\"model_set\")\n",
    "    \n",
    "    # get data per train/test set\n",
    "    df_train, df_test = df_set_groups.get_group(\"train\"), df_set_groups.get_group(\"test\")\n",
    "    print(len(df_train), len(df_test))\n",
    "    # split target from features\n",
    "    X_train, y_train = df_train.drop(columns=[target]), df_train[target]\n",
    "    X_test, y_test = df_test.drop(columns=[target]),  df_test[target]\n",
    "    \n",
    "    print(len(X_train), len(X_test), len(df))\n",
    "    assert (len(X_train) + len(X_test)) == len(df)\n",
    "    return X_train, X_test, y_train, y_test\n",
    "\n",
    "X_train, X_test, y_train, y_test = split_train_test(df, train_test)"
   ]
  },
  {
   "cell_type": "markdown",
   "metadata": {},
   "source": [
    "# Train model"
   ]
  },
  {
   "cell_type": "code",
   "execution_count": 15,
   "metadata": {},
   "outputs": [],
   "source": [
    "class AverageBaseline(BaseEstimator):\n",
    "    def __init__(self):\n",
    "        self._average_y = None\n",
    "   \n",
    "    @property\n",
    "    def average_y(self):\n",
    "        return self._average_y\n",
    "    \n",
    "    def fit(self, X, y):\n",
    "        \"\"\"calculate the average values of `y` and save  internally\"\"\"\n",
    "        self._average_y = np.mean(y)\n",
    "        return self\n",
    "    \n",
    "    def predict(self, X):\n",
    "        \"\"\"return trained average y value for all observations in X\"\"\"\n",
    "        return np.array([self.average_y] * X.shape[0])"
   ]
  },
  {
   "cell_type": "code",
   "execution_count": 16,
   "metadata": {},
   "outputs": [],
   "source": [
    "# train\n",
    "avg_baseline = AverageBaseline().fit(X_train, y_train)"
   ]
  },
  {
   "cell_type": "markdown",
   "metadata": {},
   "source": [
    "# Evaluate model"
   ]
  },
  {
   "cell_type": "code",
   "execution_count": 17,
   "metadata": {},
   "outputs": [
    {
     "data": {
      "text/plain": [
       "array([940.57551237, 940.57551237, 940.57551237, ..., 940.57551237,\n",
       "       940.57551237, 940.57551237])"
      ]
     },
     "execution_count": 17,
     "metadata": {},
     "output_type": "execute_result"
    }
   ],
   "source": [
    "# predict\n",
    "preds_train = avg_baseline.predict(X_train) \n",
    "preds_test = avg_baseline.predict(X_test)\n",
    "preds_test"
   ]
  },
  {
   "cell_type": "code",
   "execution_count": 18,
   "metadata": {},
   "outputs": [
    {
     "data": {
      "text/plain": [
       "(94350, 7)"
      ]
     },
     "execution_count": 18,
     "metadata": {},
     "output_type": "execute_result"
    }
   ],
   "source": [
    "X_test.shape"
   ]
  },
  {
   "cell_type": "code",
   "execution_count": 19,
   "metadata": {},
   "outputs": [
    {
     "data": {
      "text/plain": [
       "(393366, 7)"
      ]
     },
     "execution_count": 19,
     "metadata": {},
     "output_type": "execute_result"
    }
   ],
   "source": [
    "X_train.shape"
   ]
  },
  {
   "cell_type": "code",
   "execution_count": 20,
   "metadata": {},
   "outputs": [
    {
     "data": {
      "text/plain": [
       "{'train': {'mae': 987.1919936308009,\n",
       "  'mse': 7565240.986105768,\n",
       "  'rmse': 2750.4983159612675,\n",
       "  'mape': inf,\n",
       "  'median_absolute_error': 702.5755123727013,\n",
       "  'max_error': 280180.4244876273,\n",
       "  'explained_variance': 0.0,\n",
       "  'r2_score': 0.0,\n",
       "  'wce': 193837215.1364897},\n",
       " 'test_': {'mae': 896.8729317853183,\n",
       "  'mse': 3757542.1140603386,\n",
       "  'rmse': 1938.438060413677,\n",
       "  'mape': inf,\n",
       "  'median_absolute_error': 701.5755123727013,\n",
       "  'max_error': 163102.4244876273,\n",
       "  'explained_variance': 0.0,\n",
       "  'r2_score': -0.003657227644512373,\n",
       "  'wce': 42543659.52644593}}"
      ]
     },
     "execution_count": 20,
     "metadata": {},
     "output_type": "execute_result"
    }
   ],
   "source": [
    "# calculate regression metrics\n",
    "train_metrics = get_regression_metrics(y_train, preds_train) \n",
    "test_metrics = get_regression_metrics(y_test, preds_test)\n",
    "\n",
    "metrics_dict = dict(\n",
    "    train = train_metrics,\n",
    "    test_ = test_metrics)\n",
    "metrics_dict"
   ]
  },
  {
   "cell_type": "code",
   "execution_count": 22,
   "metadata": {},
   "outputs": [
    {
     "data": {
      "text/html": [
       "<div>\n",
       "<style scoped>\n",
       "    .dataframe tbody tr th:only-of-type {\n",
       "        vertical-align: middle;\n",
       "    }\n",
       "\n",
       "    .dataframe tbody tr th {\n",
       "        vertical-align: top;\n",
       "    }\n",
       "\n",
       "    .dataframe thead th {\n",
       "        text-align: right;\n",
       "    }\n",
       "</style>\n",
       "<table border=\"1\" class=\"dataframe\">\n",
       "  <thead>\n",
       "    <tr style=\"text-align: right;\">\n",
       "      <th></th>\n",
       "      <th>id</th>\n",
       "      <th>aircraftRegistration</th>\n",
       "      <th>airlineCode</th>\n",
       "      <th>terminal</th>\n",
       "      <th>serviceType</th>\n",
       "      <th>scheduleDateTime</th>\n",
       "      <th>actualOffBlockTime</th>\n",
       "    </tr>\n",
       "  </thead>\n",
       "  <tbody>\n",
       "    <tr>\n",
       "      <th>0</th>\n",
       "      <td>123414481790510775</td>\n",
       "      <td>PHPXB</td>\n",
       "      <td>148.0</td>\n",
       "      <td>NaN</td>\n",
       "      <td>NaN</td>\n",
       "      <td>2018-01-01 03:30:00+01:00</td>\n",
       "      <td>2018-01-01 03:22:00+01:00</td>\n",
       "    </tr>\n",
       "    <tr>\n",
       "      <th>1</th>\n",
       "      <td>123414479288269149</td>\n",
       "      <td>PHHSJ</td>\n",
       "      <td>164.0</td>\n",
       "      <td>1.0</td>\n",
       "      <td>J</td>\n",
       "      <td>2018-01-01 06:00:00+01:00</td>\n",
       "      <td>2018-01-01 05:58:22+01:00</td>\n",
       "    </tr>\n",
       "    <tr>\n",
       "      <th>2</th>\n",
       "      <td>123414479666542945</td>\n",
       "      <td>PHHSG</td>\n",
       "      <td>100.0</td>\n",
       "      <td>1.0</td>\n",
       "      <td>J</td>\n",
       "      <td>2018-01-01 06:05:00+01:00</td>\n",
       "      <td>2018-01-01 06:00:00+01:00</td>\n",
       "    </tr>\n",
       "    <tr>\n",
       "      <th>3</th>\n",
       "      <td>123414479288365061</td>\n",
       "      <td>PHHSG</td>\n",
       "      <td>164.0</td>\n",
       "      <td>1.0</td>\n",
       "      <td>J</td>\n",
       "      <td>2018-01-01 06:05:00+01:00</td>\n",
       "      <td>2018-01-01 06:00:00+01:00</td>\n",
       "    </tr>\n",
       "    <tr>\n",
       "      <th>5</th>\n",
       "      <td>123414479666545913</td>\n",
       "      <td>PHHZN</td>\n",
       "      <td>100.0</td>\n",
       "      <td>1.0</td>\n",
       "      <td>J</td>\n",
       "      <td>2018-01-01 06:20:00+01:00</td>\n",
       "      <td>2018-01-01 06:30:11+01:00</td>\n",
       "    </tr>\n",
       "    <tr>\n",
       "      <th>...</th>\n",
       "      <td>...</td>\n",
       "      <td>...</td>\n",
       "      <td>...</td>\n",
       "      <td>...</td>\n",
       "      <td>...</td>\n",
       "      <td>...</td>\n",
       "      <td>...</td>\n",
       "    </tr>\n",
       "    <tr>\n",
       "      <th>487711</th>\n",
       "      <td>124763272032451639</td>\n",
       "      <td>PHBHE</td>\n",
       "      <td>1551.0</td>\n",
       "      <td>2.0</td>\n",
       "      <td>J</td>\n",
       "      <td>2018-07-12 17:25:00+02:00</td>\n",
       "      <td>2018-07-12 17:26:20+02:00</td>\n",
       "    </tr>\n",
       "    <tr>\n",
       "      <th>487712</th>\n",
       "      <td>124763270368084713</td>\n",
       "      <td>PHBHL</td>\n",
       "      <td>80.0</td>\n",
       "      <td>2.0</td>\n",
       "      <td>J</td>\n",
       "      <td>2018-07-12 17:25:00+02:00</td>\n",
       "      <td>2018-07-12 17:25:12+02:00</td>\n",
       "    </tr>\n",
       "    <tr>\n",
       "      <th>487713</th>\n",
       "      <td>124763270625998761</td>\n",
       "      <td>B2098</td>\n",
       "      <td>488.0</td>\n",
       "      <td>NaN</td>\n",
       "      <td>F</td>\n",
       "      <td>2018-07-12 17:45:00+02:00</td>\n",
       "      <td>2018-07-12 17:12:45+02:00</td>\n",
       "    </tr>\n",
       "    <tr>\n",
       "      <th>487714</th>\n",
       "      <td>124763271129903067</td>\n",
       "      <td>OOFPE</td>\n",
       "      <td>4804.0</td>\n",
       "      <td>NaN</td>\n",
       "      <td>NaN</td>\n",
       "      <td>2018-07-12 17:50:00+02:00</td>\n",
       "      <td>2018-07-12 15:25:10+02:00</td>\n",
       "    </tr>\n",
       "    <tr>\n",
       "      <th>487715</th>\n",
       "      <td>124756245697496479</td>\n",
       "      <td>B18716</td>\n",
       "      <td>44.0</td>\n",
       "      <td>NaN</td>\n",
       "      <td>F</td>\n",
       "      <td>2018-07-11 22:50:00+02:00</td>\n",
       "      <td>2018-07-12 00:16:11+02:00</td>\n",
       "    </tr>\n",
       "  </tbody>\n",
       "</table>\n",
       "<p>393366 rows × 7 columns</p>\n",
       "</div>"
      ],
      "text/plain": [
       "                        id aircraftRegistration  airlineCode  terminal  \\\n",
       "0       123414481790510775                PHPXB        148.0       NaN   \n",
       "1       123414479288269149                PHHSJ        164.0       1.0   \n",
       "2       123414479666542945                PHHSG        100.0       1.0   \n",
       "3       123414479288365061                PHHSG        164.0       1.0   \n",
       "5       123414479666545913                PHHZN        100.0       1.0   \n",
       "...                    ...                  ...          ...       ...   \n",
       "487711  124763272032451639                PHBHE       1551.0       2.0   \n",
       "487712  124763270368084713                PHBHL         80.0       2.0   \n",
       "487713  124763270625998761                B2098        488.0       NaN   \n",
       "487714  124763271129903067                OOFPE       4804.0       NaN   \n",
       "487715  124756245697496479               B18716         44.0       NaN   \n",
       "\n",
       "       serviceType           scheduleDateTime         actualOffBlockTime  \n",
       "0              NaN  2018-01-01 03:30:00+01:00  2018-01-01 03:22:00+01:00  \n",
       "1                J  2018-01-01 06:00:00+01:00  2018-01-01 05:58:22+01:00  \n",
       "2                J  2018-01-01 06:05:00+01:00  2018-01-01 06:00:00+01:00  \n",
       "3                J  2018-01-01 06:05:00+01:00  2018-01-01 06:00:00+01:00  \n",
       "5                J  2018-01-01 06:20:00+01:00  2018-01-01 06:30:11+01:00  \n",
       "...            ...                        ...                        ...  \n",
       "487711           J  2018-07-12 17:25:00+02:00  2018-07-12 17:26:20+02:00  \n",
       "487712           J  2018-07-12 17:25:00+02:00  2018-07-12 17:25:12+02:00  \n",
       "487713           F  2018-07-12 17:45:00+02:00  2018-07-12 17:12:45+02:00  \n",
       "487714         NaN  2018-07-12 17:50:00+02:00  2018-07-12 15:25:10+02:00  \n",
       "487715           F  2018-07-11 22:50:00+02:00  2018-07-12 00:16:11+02:00  \n",
       "\n",
       "[393366 rows x 7 columns]"
      ]
     },
     "execution_count": 22,
     "metadata": {},
     "output_type": "execute_result"
    }
   ],
   "source": [
    "X_train"
   ]
  },
  {
   "cell_type": "code",
   "execution_count": 28,
   "metadata": {},
   "outputs": [
    {
     "data": {
      "text/plain": [
       "0         2018-01-01\n",
       "1         2018-01-01\n",
       "2         2018-01-01\n",
       "3         2018-01-01\n",
       "5         2018-01-01\n",
       "             ...    \n",
       "487711    2018-07-12\n",
       "487712    2018-07-12\n",
       "487713    2018-07-12\n",
       "487714    2018-07-12\n",
       "487715    2018-07-11\n",
       "Name: scheduleDateTime, Length: 393366, dtype: object"
      ]
     },
     "execution_count": 28,
     "metadata": {},
     "output_type": "execute_result"
    }
   ],
   "source": []
  },
  {
   "cell_type": "code",
   "execution_count": 56,
   "metadata": {},
   "outputs": [],
   "source": [
    "def datetime_to_date(dt):\n",
    "    return pd.to_datetime(dt, utc=True).dt.date\n",
    "\n",
    "def datetime_to_date_hour(dt):\n",
    "    return pd.to_datetime(dt, utc=True).dt.floor('H')"
   ]
  },
  {
   "cell_type": "code",
   "execution_count": null,
   "metadata": {},
   "outputs": [],
   "source": []
  },
  {
   "cell_type": "code",
   "execution_count": 57,
   "metadata": {},
   "outputs": [
    {
     "name": "stdout",
     "output_type": "stream",
     "text": [
      "0.0 -40198.0\n",
      "0.1 -74.0\n",
      "0.2 59.00000000000001\n",
      "0.30000000000000004 172.0\n",
      "0.4 293.0\n",
      "0.5 426.0\n",
      "0.6000000000000001 609.0\n",
      "0.7000000000000001 858.0\n",
      "0.8 1255.0\n",
      "0.9 2189.0\n",
      "1.0 281121.0\n"
     ]
    }
   ],
   "source": [
    "for quant in np.linspace(0, 1, 11):\n",
    "    print(quant, np.quantile(y_train, quant))"
   ]
  },
  {
   "cell_type": "code",
   "execution_count": 59,
   "metadata": {},
   "outputs": [
    {
     "data": {
      "text/plain": [
       "<matplotlib.axes._subplots.AxesSubplot at 0x2479100e248>"
      ]
     },
     "execution_count": 59,
     "metadata": {},
     "output_type": "execute_result"
    },
    {
     "data": {
      "image/png": "[encoded data removed]",
      "text/plain": [
       "<Figure size 432x288 with 1 Axes>"
      ]
     },
     "metadata": {
      "needs_background": "light"
     },
     "output_type": "display_data"
    }
   ],
   "source": [
    "X_train[[\"id\", \"scheduleDateTime\"]] \\\n",
    "    .assign(\n",
    "        y = y_train,\n",
    "        yhat = preds_train,\n",
    "        error = preds_train - y_train,\n",
    "        schedule_date = datetime_to_date(X_train[\"scheduleDateTime\"])) \\\n",
    "    .groupby(\"schedule_date\").mean().reset_index() \\\n",
    "    [[\"schedule_date\", \"y\", \"yhat\"]] \\\n",
    "    .plot(x=\"schedule_date\", \n",
    "          ylim=(np.quantile(y_train, 0.05), np.quantile(y_train, 0.95)))"
   ]
  },
  {
   "cell_type": "code",
   "execution_count": 74,
   "metadata": {},
   "outputs": [],
   "source": [
    "import seaborn as sns\n",
    "import matplotlib.pyplot as plt"
   ]
  },
  {
   "cell_type": "code",
   "execution_count": 77,
   "metadata": {},
   "outputs": [
    {
     "data": {
      "image/png": "[encoded data removed]",
      "text/plain": [
       "<Figure size 432x288 with 1 Axes>"
      ]
     },
     "metadata": {
      "needs_background": "light"
     },
     "output_type": "display_data"
    },
    {
     "data": {
      "image/png": "[encoded data removed]",
      "text/plain": [
       "<Figure size 432x288 with 1 Axes>"
      ]
     },
     "metadata": {
      "needs_background": "light"
     },
     "output_type": "display_data"
    },
    {
     "data": {
      "image/png": "[encoded data removed]",
      "text/plain": [
       "<Figure size 432x288 with 1 Axes>"
      ]
     },
     "metadata": {
      "needs_background": "light"
     },
     "output_type": "display_data"
    }
   ],
   "source": [
    "tmp_plot_data = X_train[[\"id\", \"scheduleDateTime\"]] \\\n",
    "    .assign(\n",
    "        y = y_train,\n",
    "        yhat = preds_train,\n",
    "        error = preds_train - y_train,\n",
    "        schedule_date = datetime_to_date_hour(X_train[\"scheduleDateTime\"])) \\\n",
    "    .groupby(\"schedule_date\").mean().reset_index() \n",
    "\n",
    "tmp_plot_data[[\"schedule_date\", \"y\", \"yhat\"]].plot(x=\"schedule_date\", ylim=(np.quantile(y_train, 0.05), np.quantile(y_train, 0.95)))\n",
    "tmp_plot_data[[\"schedule_date\", \"error\"]].plot(x=\"schedule_date\")\n",
    "plt.show()\n",
    "\n",
    "sns.scatterplot(data=tmp_plot_data, x=\"schedule_date\", y=\"error\", alpha=0.1)\n",
    "plt.show()"
   ]
  },
  {
   "cell_type": "code",
   "execution_count": null,
   "metadata": {},
   "outputs": [],
   "source": []
  }
 ],
 "metadata": {
  "kernelspec": {
   "display_name": "Python (schiphol-py)",
   "language": "python",
   "name": "schiphol-py"
  },
  "language_info": {
   "codemirror_mode": {
    "name": "ipython",
    "version": 3
   },
   "file_extension": ".py",
   "mimetype": "text/x-python",
   "name": "python",
   "nbconvert_exporter": "python",
   "pygments_lexer": "ipython3",
   "version": "3.7.7"
  }
 },
 "nbformat": 4,
 "nbformat_minor": 4
}
