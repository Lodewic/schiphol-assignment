{
 "cells": [
  {
   "cell_type": "code",
   "execution_count": null,
   "metadata": {},
   "outputs": [],
   "source": [
    "import pandas as pd\n",
    "from pandas_profiling import ProfileReport"
   ]
  },
  {
   "cell_type": "markdown",
   "metadata": {},
   "source": [
    "# Create Pandas profiling report\n",
    "\n",
    "Using a .CSV file as input, we create a .HTML pandas profiling report.\n",
    "\n",
    "This notebook is purposely concise and simple."
   ]
  },
  {
   "cell_type": "markdown",
   "metadata": {},
   "source": [
    "## Script parameters\n",
    "\n",
    "Parameters\n",
    "\n",
    "----------\n",
    "\n",
    "- input_file:    String filename as input that can be read using pandas.read_csv(...)\n",
    "- output_file:   String filename to save .HTML report file to\n",
    "\n",
    "Returns\n",
    "\n",
    "-------\n",
    "\n",
    "HTML pandas profiling report file saved to specified `output_file`"
   ]
  },
  {
   "cell_type": "code",
   "execution_count": null,
   "metadata": {
    "tags": [
     "parameters"
    ]
   },
   "outputs": [],
   "source": [
    "# input parameters cell\n",
    "input_file = \"../data/raw/flights.csv\"\n",
    "output_file = \"../test_output/pandas_profiling__flights.html\"\n",
    "profiling_config = \"profiling_config.yml\""
   ]
  },
  {
   "cell_type": "markdown",
   "metadata": {},
   "source": [
    "## Read data"
   ]
  },
  {
   "cell_type": "code",
   "execution_count": null,
   "metadata": {},
   "outputs": [],
   "source": [
    "df = pd.read_csv(input_file)\n",
    "df.shape"
   ]
  },
  {
   "cell_type": "markdown",
   "metadata": {},
   "source": [
    "## Create pandas-profiling reports\n",
    "\n",
    "Default options used here. This script can easily be extended to allow custom themes or summary calculations."
   ]
  },
  {
   "cell_type": "code",
   "execution_count": null,
   "metadata": {},
   "outputs": [],
   "source": [
    "# create pandas profiling report and save to HTML output\n",
    "profile = ProfileReport(df)\n",
    "profile"
   ]
  },
  {
   "cell_type": "markdown",
   "metadata": {},
   "source": [
    "#  "
   ]
  },
  {
   "cell_type": "markdown",
   "metadata": {},
   "source": [
    "## Save HTML output to file\n",
    "\n",
    "Report output is saved to a stand-alone HTML file that can be sent to others with no further dependencies.\n"
   ]
  },
  {
   "cell_type": "code",
   "execution_count": null,
   "metadata": {},
   "outputs": [],
   "source": [
    "# create pandas profiling report and save to HTML output\n",
    "profile.to_file(output_file)\n",
    "print(f\"Written profiling report to {output_file}\")"
   ]
  },
  {
   "cell_type": "code",
   "execution_count": null,
   "metadata": {},
   "outputs": [],
   "source": []
  }
 ],
 "metadata": {
  "celltoolbar": "Tags",
  "kernelspec": {
   "display_name": "Python (schiphol-py)",
   "language": "python",
   "name": "schiphol-py"
  },
  "language_info": {
   "codemirror_mode": {
    "name": "ipython",
    "version": 3
   },
   "file_extension": ".py",
   "mimetype": "text/x-python",
   "name": "python",
   "nbconvert_exporter": "python",
   "pygments_lexer": "ipython3",
   "version": "3.7.7"
  },
  "widgets": {
   "application/vnd.jupyter.widget-state+json": {
    "state": {},
    "version_major": 2,
    "version_minor": 0
   }
  }
 },
 "nbformat": 4,
 "nbformat_minor": 4
}
