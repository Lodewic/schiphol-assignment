{
 "cells": [
  {
   "cell_type": "markdown",
   "metadata": {},
   "source": [
    "# Schiphol code assignment environment setup"
   ]
  },
  {
   "cell_type": "markdown",
   "metadata": {},
   "source": [
    "This notebook is a utility to setup your conda environments for local development.\n",
    "For this project we will 3 conda environments,\n",
    "\n",
    "1. schiphol-snakemake: Snakemake and papermill to execute notebooks as scripts in a pipeline\n",
    "2. schiphol-py: environment with which to execute Python notebooks with datascience tools like pandas, sklearn, tensorflow, etc.\n",
    "3. schiphol-r: environment with R packages for exploratory analyses and R time-series forecasting\n",
    "\n",
    "When using [papermill CLI](https://papermill.readthedocs.io/en/latest/usage-cli.html) we can pass a `--kernel` argument that specifies a kernel to use for executing a target notebook. Together with conda we can make our environments available as a `kernel`, but this requires some repetitive setup. \n",
    "\n",
    "This notebook creates all 3 environments and makes them available as a kernel. Then finally tests the environment before we continue with the project."
   ]
  },
  {
   "cell_type": "markdown",
   "metadata": {},
   "source": [
    "# Setup"
   ]
  },
  {
   "cell_type": "code",
   "execution_count": 2,
   "metadata": {},
   "outputs": [],
   "source": [
    "from pathlib import Path"
   ]
  },
  {
   "cell_type": "code",
   "execution_count": 3,
   "metadata": {},
   "outputs": [],
   "source": [
    "# !conda env create -f ../envs/schiphol-snakemake.yml\n",
    "# !conda env create -f ../envs/schiphol-py.yml\n",
    "# !conda env create -f ../envs/schiphol-r.yml"
   ]
  },
  {
   "cell_type": "code",
   "execution_count": 12,
   "metadata": {},
   "outputs": [
    {
     "name": "stdout",
     "output_type": "stream",
     "text": [
      "schiphol-snakemake\n",
      "python -m ipykernel install --user --name schiphol-snakemake --display-name \"Python (schiphol-snakemake)\"\n",
      "schiphol-py\n",
      "python -m ipykernel install --user --name schiphol-py --display-name \"Python (schiphol-py)\"\n",
      "schiphol-r\n",
      "python -m ipykernel install --user --name schiphol-r --display-name \"Python (schiphol-r)\"\n",
      "Available kernels:\n",
      "  ghosting-cb           C:\\Users\\lodew\\AppData\\Roaming\\jupyter\\kernels\\ghosting-cb\n",
      "  schiphol-py           C:\\Users\\lodew\\AppData\\Roaming\\jupyter\\kernels\\schiphol-py\n",
      "  schiphol-r            C:\\Users\\lodew\\AppData\\Roaming\\jupyter\\kernels\\schiphol-r\n",
      "  schiphol-snakemake    C:\\Users\\lodew\\AppData\\Roaming\\jupyter\\kernels\\schiphol-snakemake\n",
      "  snakemake-py          C:\\Users\\lodew\\AppData\\Roaming\\jupyter\\kernels\\snakemake-py\n",
      "  python3               C:\\Users\\lodew\\anaconda3\\share\\jupyter\\kernels\\python3\n"
     ]
    }
   ],
   "source": [
    "env_file_dir = \"../envs\"\n",
    "conda_envs = [\"schiphol-snakemake\", \"schiphol-py\", \"schiphol-r\"]\n",
    "\n",
    "for conda_env in conda_envs:\n",
    "    env_file = Path(env_file_dir, conda_env + \".yml\")\n",
    "    \n",
    "    print(conda_env)\n",
    "    print(f'python -m ipykernel install --user --name {conda_env} --display-name \"Python ({conda_env})\"')\n",
    "    \n",
    "#     !conda deactivate\n",
    "#     !conda activate $conda_env\n",
    "#     !python -m ipykernel install --user --name $conda_env --display-name \"Python ($conda_env)\"\n",
    "#     !conda deactivate\n",
    "\n",
    "!jupyter kernelspec list\n"
   ]
  },
  {
   "cell_type": "markdown",
   "metadata": {},
   "source": [
    "TO FINISH"
   ]
  },
  {
   "cell_type": "code",
   "execution_count": null,
   "metadata": {},
   "outputs": [],
   "source": []
  }
 ],
 "metadata": {
  "kernelspec": {
   "display_name": "Python 3",
   "language": "python",
   "name": "python3"
  },
  "language_info": {
   "codemirror_mode": {
    "name": "ipython",
    "version": 3
   },
   "file_extension": ".py",
   "mimetype": "text/x-python",
   "name": "python",
   "nbconvert_exporter": "python",
   "pygments_lexer": "ipython3",
   "version": "3.7.6"
  }
 },
 "nbformat": 4,
 "nbformat_minor": 4
}
