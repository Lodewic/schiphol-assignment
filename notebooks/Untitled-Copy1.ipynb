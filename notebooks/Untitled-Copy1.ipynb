{
 "cells": [
  {
   "cell_type": "code",
   "execution_count": 1,
   "metadata": {},
   "outputs": [],
   "source": [
    "import pandas as pd\n",
    "import pandas_profiling as pp"
   ]
  },
  {
   "cell_type": "code",
   "execution_count": 2,
   "metadata": {},
   "outputs": [],
   "source": [
    "# input parameters cell\n",
    "input_file = \"../data/raw/flights.csv\""
   ]
  },
  {
   "cell_type": "markdown",
   "metadata": {},
   "source": [
    "### Read data"
   ]
  },
  {
   "cell_type": "code",
   "execution_count": 3,
   "metadata": {},
   "outputs": [
    {
     "name": "stdout",
     "output_type": "stream",
     "text": [
      "Loaded data from: ../data/raw/flights.csv\n",
      "Shape of data: (523275, 28)\n"
     ]
    }
   ],
   "source": [
    "df = pd.read_csv(input_file)\n",
    "print(f\"Loaded data from: {input_file}\\n\"\n",
    "      f\"Shape of data: {df.shape}\")"
   ]
  },
  {
   "cell_type": "code",
   "execution_count": 4,
   "metadata": {},
   "outputs": [
    {
     "data": {
      "text/html": [
       "<div>\n",
       "<style scoped>\n",
       "    .dataframe tbody tr th:only-of-type {\n",
       "        vertical-align: middle;\n",
       "    }\n",
       "\n",
       "    .dataframe tbody tr th {\n",
       "        vertical-align: top;\n",
       "    }\n",
       "\n",
       "    .dataframe thead th {\n",
       "        text-align: right;\n",
       "    }\n",
       "</style>\n",
       "<table border=\"1\" class=\"dataframe\">\n",
       "  <thead>\n",
       "    <tr style=\"text-align: right;\">\n",
       "      <th></th>\n",
       "      <th>actualOffBlockTime</th>\n",
       "      <th>aircraftRegistration</th>\n",
       "      <th>aircraftType.iatamain</th>\n",
       "      <th>aircraftType.iatasub</th>\n",
       "      <th>airlineCode</th>\n",
       "      <th>baggageClaim</th>\n",
       "      <th>estimatedLandingTime</th>\n",
       "      <th>expectedTimeBoarding</th>\n",
       "      <th>expectedTimeGateClosing</th>\n",
       "      <th>expectedTimeGateOpen</th>\n",
       "      <th>...</th>\n",
       "      <th>prefixICAO</th>\n",
       "      <th>publicEstimatedOffBlockTime</th>\n",
       "      <th>publicFlightState.flightStates</th>\n",
       "      <th>route.destinations</th>\n",
       "      <th>scheduleDate</th>\n",
       "      <th>scheduleTime</th>\n",
       "      <th>serviceType</th>\n",
       "      <th>terminal</th>\n",
       "      <th>transferPositions</th>\n",
       "      <th>transferPositions.transferPositions</th>\n",
       "    </tr>\n",
       "  </thead>\n",
       "  <tbody>\n",
       "    <tr>\n",
       "      <th>0</th>\n",
       "      <td>NaN</td>\n",
       "      <td>NaN</td>\n",
       "      <td>NaN</td>\n",
       "      <td>NaN</td>\n",
       "      <td>148.0</td>\n",
       "      <td>NaN</td>\n",
       "      <td>NaN</td>\n",
       "      <td>NaN</td>\n",
       "      <td>NaN</td>\n",
       "      <td>NaN</td>\n",
       "      <td>...</td>\n",
       "      <td>ZXP</td>\n",
       "      <td>NaN</td>\n",
       "      <td>['SCH']</td>\n",
       "      <td>['AMS']</td>\n",
       "      <td>2018-01-01</td>\n",
       "      <td>03:02:07</td>\n",
       "      <td>P</td>\n",
       "      <td>NaN</td>\n",
       "      <td>NaN</td>\n",
       "      <td>NaN</td>\n",
       "    </tr>\n",
       "    <tr>\n",
       "      <th>1</th>\n",
       "      <td>NaN</td>\n",
       "      <td>PHPXY</td>\n",
       "      <td>AW1</td>\n",
       "      <td>NaN</td>\n",
       "      <td>148.0</td>\n",
       "      <td>NaN</td>\n",
       "      <td>NaN</td>\n",
       "      <td>NaN</td>\n",
       "      <td>NaN</td>\n",
       "      <td>NaN</td>\n",
       "      <td>...</td>\n",
       "      <td>ZXP</td>\n",
       "      <td>NaN</td>\n",
       "      <td>['SCH']</td>\n",
       "      <td>['AMS']</td>\n",
       "      <td>2018-01-01</td>\n",
       "      <td>03:16:00</td>\n",
       "      <td>NaN</td>\n",
       "      <td>NaN</td>\n",
       "      <td>NaN</td>\n",
       "      <td>NaN</td>\n",
       "    </tr>\n",
       "    <tr>\n",
       "      <th>2</th>\n",
       "      <td>NaN</td>\n",
       "      <td>NaN</td>\n",
       "      <td>AW1</td>\n",
       "      <td>NaN</td>\n",
       "      <td>148.0</td>\n",
       "      <td>NaN</td>\n",
       "      <td>NaN</td>\n",
       "      <td>NaN</td>\n",
       "      <td>NaN</td>\n",
       "      <td>NaN</td>\n",
       "      <td>...</td>\n",
       "      <td>ZXP</td>\n",
       "      <td>NaN</td>\n",
       "      <td>['SCH']</td>\n",
       "      <td>['AMS']</td>\n",
       "      <td>2018-01-01</td>\n",
       "      <td>03:16:29</td>\n",
       "      <td>P</td>\n",
       "      <td>NaN</td>\n",
       "      <td>NaN</td>\n",
       "      <td>NaN</td>\n",
       "    </tr>\n",
       "    <tr>\n",
       "      <th>3</th>\n",
       "      <td>2018-01-01T03:22:00.000+01:00</td>\n",
       "      <td>PHPXB</td>\n",
       "      <td>NaN</td>\n",
       "      <td>NaN</td>\n",
       "      <td>148.0</td>\n",
       "      <td>NaN</td>\n",
       "      <td>NaN</td>\n",
       "      <td>NaN</td>\n",
       "      <td>NaN</td>\n",
       "      <td>NaN</td>\n",
       "      <td>...</td>\n",
       "      <td>ZXP</td>\n",
       "      <td>NaN</td>\n",
       "      <td>['DEP']</td>\n",
       "      <td>['AMS']</td>\n",
       "      <td>2018-01-01</td>\n",
       "      <td>03:30:00</td>\n",
       "      <td>NaN</td>\n",
       "      <td>NaN</td>\n",
       "      <td>NaN</td>\n",
       "      <td>NaN</td>\n",
       "    </tr>\n",
       "    <tr>\n",
       "      <th>4</th>\n",
       "      <td>2018-01-01T05:58:22.000+01:00</td>\n",
       "      <td>PHHSJ</td>\n",
       "      <td>73H</td>\n",
       "      <td>73H</td>\n",
       "      <td>164.0</td>\n",
       "      <td>NaN</td>\n",
       "      <td>NaN</td>\n",
       "      <td>NaN</td>\n",
       "      <td>NaN</td>\n",
       "      <td>NaN</td>\n",
       "      <td>...</td>\n",
       "      <td>TRA</td>\n",
       "      <td>NaN</td>\n",
       "      <td>['DEP']</td>\n",
       "      <td>['SPC']</td>\n",
       "      <td>2018-01-01</td>\n",
       "      <td>06:00:00</td>\n",
       "      <td>J</td>\n",
       "      <td>1.0</td>\n",
       "      <td>NaN</td>\n",
       "      <td>NaN</td>\n",
       "    </tr>\n",
       "    <tr>\n",
       "      <th>...</th>\n",
       "      <td>...</td>\n",
       "      <td>...</td>\n",
       "      <td>...</td>\n",
       "      <td>...</td>\n",
       "      <td>...</td>\n",
       "      <td>...</td>\n",
       "      <td>...</td>\n",
       "      <td>...</td>\n",
       "      <td>...</td>\n",
       "      <td>...</td>\n",
       "      <td>...</td>\n",
       "      <td>...</td>\n",
       "      <td>...</td>\n",
       "      <td>...</td>\n",
       "      <td>...</td>\n",
       "      <td>...</td>\n",
       "      <td>...</td>\n",
       "      <td>...</td>\n",
       "      <td>...</td>\n",
       "      <td>...</td>\n",
       "      <td>...</td>\n",
       "    </tr>\n",
       "    <tr>\n",
       "      <th>523270</th>\n",
       "      <td>NaN</td>\n",
       "      <td>NaN</td>\n",
       "      <td>320</td>\n",
       "      <td>320</td>\n",
       "      <td>64.0</td>\n",
       "      <td>NaN</td>\n",
       "      <td>NaN</td>\n",
       "      <td>2018-07-31T21:20:00.000+02:00</td>\n",
       "      <td>2018-07-31T21:30:00.000+02:00</td>\n",
       "      <td>NaN</td>\n",
       "      <td>...</td>\n",
       "      <td>EZY</td>\n",
       "      <td>NaN</td>\n",
       "      <td>['SCH']</td>\n",
       "      <td>['MAN']</td>\n",
       "      <td>2018-07-31</td>\n",
       "      <td>21:50:00</td>\n",
       "      <td>J</td>\n",
       "      <td>NaN</td>\n",
       "      <td>NaN</td>\n",
       "      <td>NaN</td>\n",
       "    </tr>\n",
       "    <tr>\n",
       "      <th>523271</th>\n",
       "      <td>NaN</td>\n",
       "      <td>NaN</td>\n",
       "      <td>319</td>\n",
       "      <td>319</td>\n",
       "      <td>64.0</td>\n",
       "      <td>NaN</td>\n",
       "      <td>NaN</td>\n",
       "      <td>2018-07-31T21:25:00.000+02:00</td>\n",
       "      <td>2018-07-31T21:35:00.000+02:00</td>\n",
       "      <td>NaN</td>\n",
       "      <td>...</td>\n",
       "      <td>EZY</td>\n",
       "      <td>NaN</td>\n",
       "      <td>['SCH']</td>\n",
       "      <td>['SEN']</td>\n",
       "      <td>2018-07-31</td>\n",
       "      <td>21:55:00</td>\n",
       "      <td>J</td>\n",
       "      <td>NaN</td>\n",
       "      <td>NaN</td>\n",
       "      <td>NaN</td>\n",
       "    </tr>\n",
       "    <tr>\n",
       "      <th>523272</th>\n",
       "      <td>NaN</td>\n",
       "      <td>NaN</td>\n",
       "      <td>73H</td>\n",
       "      <td>73H</td>\n",
       "      <td>234.0</td>\n",
       "      <td>NaN</td>\n",
       "      <td>NaN</td>\n",
       "      <td>NaN</td>\n",
       "      <td>NaN</td>\n",
       "      <td>NaN</td>\n",
       "      <td>...</td>\n",
       "      <td>RYR</td>\n",
       "      <td>NaN</td>\n",
       "      <td>['SCH']</td>\n",
       "      <td>['DUB']</td>\n",
       "      <td>2018-07-31</td>\n",
       "      <td>22:05:00</td>\n",
       "      <td>J</td>\n",
       "      <td>NaN</td>\n",
       "      <td>NaN</td>\n",
       "      <td>NaN</td>\n",
       "    </tr>\n",
       "    <tr>\n",
       "      <th>523273</th>\n",
       "      <td>NaN</td>\n",
       "      <td>NaN</td>\n",
       "      <td>73W</td>\n",
       "      <td>73W</td>\n",
       "      <td>100.0</td>\n",
       "      <td>NaN</td>\n",
       "      <td>NaN</td>\n",
       "      <td>2018-07-31T21:40:00.000+02:00</td>\n",
       "      <td>2018-07-31T21:55:00.000+02:00</td>\n",
       "      <td>2018-07-31T21:10:00.000+02:00</td>\n",
       "      <td>...</td>\n",
       "      <td>KLM</td>\n",
       "      <td>NaN</td>\n",
       "      <td>['SCH']</td>\n",
       "      <td>['NCL']</td>\n",
       "      <td>2018-07-31</td>\n",
       "      <td>22:10:00</td>\n",
       "      <td>J</td>\n",
       "      <td>2.0</td>\n",
       "      <td>NaN</td>\n",
       "      <td>NaN</td>\n",
       "    </tr>\n",
       "    <tr>\n",
       "      <th>523274</th>\n",
       "      <td>NaN</td>\n",
       "      <td>NaN</td>\n",
       "      <td>787</td>\n",
       "      <td>788</td>\n",
       "      <td>794.0</td>\n",
       "      <td>NaN</td>\n",
       "      <td>NaN</td>\n",
       "      <td>2018-07-31T21:35:00.000+02:00</td>\n",
       "      <td>2018-07-31T22:05:00.000+02:00</td>\n",
       "      <td>2018-07-31T20:30:00.000+02:00</td>\n",
       "      <td>...</td>\n",
       "      <td>AMX</td>\n",
       "      <td>NaN</td>\n",
       "      <td>['SCH']</td>\n",
       "      <td>['MEX']</td>\n",
       "      <td>2018-07-31</td>\n",
       "      <td>22:25:00</td>\n",
       "      <td>J</td>\n",
       "      <td>NaN</td>\n",
       "      <td>NaN</td>\n",
       "      <td>NaN</td>\n",
       "    </tr>\n",
       "  </tbody>\n",
       "</table>\n",
       "<p>523275 rows × 28 columns</p>\n",
       "</div>"
      ],
      "text/plain": [
       "                   actualOffBlockTime aircraftRegistration  \\\n",
       "0                                 NaN                  NaN   \n",
       "1                                 NaN                PHPXY   \n",
       "2                                 NaN                  NaN   \n",
       "3       2018-01-01T03:22:00.000+01:00                PHPXB   \n",
       "4       2018-01-01T05:58:22.000+01:00                PHHSJ   \n",
       "...                               ...                  ...   \n",
       "523270                            NaN                  NaN   \n",
       "523271                            NaN                  NaN   \n",
       "523272                            NaN                  NaN   \n",
       "523273                            NaN                  NaN   \n",
       "523274                            NaN                  NaN   \n",
       "\n",
       "       aircraftType.iatamain aircraftType.iatasub  airlineCode  baggageClaim  \\\n",
       "0                        NaN                  NaN        148.0           NaN   \n",
       "1                        AW1                  NaN        148.0           NaN   \n",
       "2                        AW1                  NaN        148.0           NaN   \n",
       "3                        NaN                  NaN        148.0           NaN   \n",
       "4                        73H                  73H        164.0           NaN   \n",
       "...                      ...                  ...          ...           ...   \n",
       "523270                   320                  320         64.0           NaN   \n",
       "523271                   319                  319         64.0           NaN   \n",
       "523272                   73H                  73H        234.0           NaN   \n",
       "523273                   73W                  73W        100.0           NaN   \n",
       "523274                   787                  788        794.0           NaN   \n",
       "\n",
       "        estimatedLandingTime           expectedTimeBoarding  \\\n",
       "0                        NaN                            NaN   \n",
       "1                        NaN                            NaN   \n",
       "2                        NaN                            NaN   \n",
       "3                        NaN                            NaN   \n",
       "4                        NaN                            NaN   \n",
       "...                      ...                            ...   \n",
       "523270                   NaN  2018-07-31T21:20:00.000+02:00   \n",
       "523271                   NaN  2018-07-31T21:25:00.000+02:00   \n",
       "523272                   NaN                            NaN   \n",
       "523273                   NaN  2018-07-31T21:40:00.000+02:00   \n",
       "523274                   NaN  2018-07-31T21:35:00.000+02:00   \n",
       "\n",
       "              expectedTimeGateClosing           expectedTimeGateOpen  ...  \\\n",
       "0                                 NaN                            NaN  ...   \n",
       "1                                 NaN                            NaN  ...   \n",
       "2                                 NaN                            NaN  ...   \n",
       "3                                 NaN                            NaN  ...   \n",
       "4                                 NaN                            NaN  ...   \n",
       "...                               ...                            ...  ...   \n",
       "523270  2018-07-31T21:30:00.000+02:00                            NaN  ...   \n",
       "523271  2018-07-31T21:35:00.000+02:00                            NaN  ...   \n",
       "523272                            NaN                            NaN  ...   \n",
       "523273  2018-07-31T21:55:00.000+02:00  2018-07-31T21:10:00.000+02:00  ...   \n",
       "523274  2018-07-31T22:05:00.000+02:00  2018-07-31T20:30:00.000+02:00  ...   \n",
       "\n",
       "        prefixICAO publicEstimatedOffBlockTime publicFlightState.flightStates  \\\n",
       "0              ZXP                         NaN                        ['SCH']   \n",
       "1              ZXP                         NaN                        ['SCH']   \n",
       "2              ZXP                         NaN                        ['SCH']   \n",
       "3              ZXP                         NaN                        ['DEP']   \n",
       "4              TRA                         NaN                        ['DEP']   \n",
       "...            ...                         ...                            ...   \n",
       "523270         EZY                         NaN                        ['SCH']   \n",
       "523271         EZY                         NaN                        ['SCH']   \n",
       "523272         RYR                         NaN                        ['SCH']   \n",
       "523273         KLM                         NaN                        ['SCH']   \n",
       "523274         AMX                         NaN                        ['SCH']   \n",
       "\n",
       "        route.destinations scheduleDate  scheduleTime serviceType terminal  \\\n",
       "0                  ['AMS']   2018-01-01      03:02:07           P      NaN   \n",
       "1                  ['AMS']   2018-01-01      03:16:00         NaN      NaN   \n",
       "2                  ['AMS']   2018-01-01      03:16:29           P      NaN   \n",
       "3                  ['AMS']   2018-01-01      03:30:00         NaN      NaN   \n",
       "4                  ['SPC']   2018-01-01      06:00:00           J      1.0   \n",
       "...                    ...          ...           ...         ...      ...   \n",
       "523270             ['MAN']   2018-07-31      21:50:00           J      NaN   \n",
       "523271             ['SEN']   2018-07-31      21:55:00           J      NaN   \n",
       "523272             ['DUB']   2018-07-31      22:05:00           J      NaN   \n",
       "523273             ['NCL']   2018-07-31      22:10:00           J      2.0   \n",
       "523274             ['MEX']   2018-07-31      22:25:00           J      NaN   \n",
       "\n",
       "       transferPositions transferPositions.transferPositions  \n",
       "0                    NaN                                 NaN  \n",
       "1                    NaN                                 NaN  \n",
       "2                    NaN                                 NaN  \n",
       "3                    NaN                                 NaN  \n",
       "4                    NaN                                 NaN  \n",
       "...                  ...                                 ...  \n",
       "523270               NaN                                 NaN  \n",
       "523271               NaN                                 NaN  \n",
       "523272               NaN                                 NaN  \n",
       "523273               NaN                                 NaN  \n",
       "523274               NaN                                 NaN  \n",
       "\n",
       "[523275 rows x 28 columns]"
      ]
     },
     "execution_count": 4,
     "metadata": {},
     "output_type": "execute_result"
    }
   ],
   "source": [
    "df"
   ]
  },
  {
   "cell_type": "markdown",
   "metadata": {},
   "source": [
    "## Data description"
   ]
  },
  {
   "cell_type": "markdown",
   "metadata": {},
   "source": [
    "- <font color='red'>**Flight Direction (flightDirection):**</font>  \n",
    "Indicates whether the commercial flight is a departure flight (d) or an arrival flight (a).  \n",
    "\n",
    "- <font color='red'>**Flightname (flightName):**</font>    \n",
    "The flight name of the commercial flight as indicated on the ticket of the passenger.  \n",
    "\n",
    "- <font color='red'>**Flightnumber (flightNumber):**</font>    \n",
    "Nummeric part of the flight name.  \n",
    "\n",
    "- <font color='red'>**IATA flight number prefix (prefixIATA):**</font>    \n",
    "The two character IATA prefix of the airline that operates the commercial flight.  \n",
    "\n",
    "- <font color='red'>**ICAO flight number prefix (prefixICAO):**</font>    \n",
    "The three character ICAO prefix of the airline that operates the commercial flight.  \n",
    "\n",
    "- <font color='red'>**Schedule date (scheduleDate):**</font>   \n",
    "The date on which the scheduled commercial flight will be operated.  \n",
    "\n",
    "- <font color='red'>**Schedule time (scheduleTime):**</font>    \n",
    "The time the commercial flight is scheduled to depart or arrive.  \n",
    "\n",
    "- <font color='red'>**Service type of a flight. (serviceType):**</font>    \n",
    "Category of the commercial flight. J = Passenger Line, C= Passenger Charter, F = Freight Line and H = Freight Charter.\n",
    "\n",
    "- <font color='red'>**Main flight (mainFlight):**</font>    \n",
    "In case of a codeshare (one flight with several flight numbers of different airlines) the main flight shows the flight number of the airline that actually operates the flight.  \n",
    "\n",
    "- <font color='red'>**Codeshares (codeshares):**</font>    \n",
    "All the flight numbers that are related to the main flight.  \n",
    "\n",
    "- <font color='red'>**Route (route):**</font>    \n",
    "The complete route of the commercial flight. In most cases this is a direct route between two airports. There are actually also flights that have more than one stopover. Example: GCK-AMS-LGW (Jakarta – Amsterdam – London Gatwick)  \n",
    "\n",
    "- <font color='red'>**Public Flightstate (publicFlightState):**</font>    \n",
    "The status of a public flight  \n",
    "\n",
    "- <font color='red'>**Terminal (terminal):**</font>    \n",
    "The section of the Schiphol terminal from which the commercial flight will be leaving or will arrive.  \n",
    "\n",
    "- <font color='red'>**Gate (gate):**</font>    \n",
    "The number of the gate from which the scheduled flight will depart and the passengers will be boarding.  \n",
    "\n",
    "- <font color='red'>**Baggage belt (baggageClaim):**</font>    \n",
    "The luggage belt number in the reclaim hall (reclaim 1,2,3 or 4) the arrived passengers can pick up their luggage.  \n",
    "\n",
    "- <font color='red'>**Check-in desks (checkinAllocations):**</font>    \n",
    "The check-in desks that are allocated for the flight (or flights in case of a codeshare).  \n",
    "\n",
    "- <font color='red'>**Check-in class:**</font>    \n",
    "The flight classes that are allocated for a specific flight.  \n",
    "\n",
    "- <font color='red'>**Transfer desks (transferPositions):**</font>    \n",
    "The transfer desks that are allocated to the flight.  \n",
    "\n",
    "- <font color='red'>**Aircraft Type, IATA main (aircraftType, iatamain):**</font>    \n",
    "The IATA main category code of the aircraft that operates the main flight.  \n",
    "\n",
    "- <font color='red'>**Aircraft Type, IATA sub (aircraftType, iatasub):**</font>    \n",
    "The IATA sub category code of the aircraft that operates the main flight.  \n",
    "\n",
    "- <font color='red'>**Aircraft registration (aircraftRegistration):**</font>    \n",
    "The unique alphanumeric string that identifies the aircraft that operates the main scheduled flight.  \n",
    "\n",
    "- <font color='red'>**Estimated Landing Time, ELDT. (estimatedLandingTime):**</font>    \n",
    "The expected time the (arriving) flight will be landing at Amsterdam Airport Schiphol.  \n",
    "\n",
    "- <font color='red'>**Actual Landing Time, ALDT. (actualLandingTime):**</font>    \n",
    "The time the aircraft landed on the runway.  \n",
    "\n",
    "- <font color='red'>**Public estimated off block time (publicEstimatedOffBlockTime):**</font>    \n",
    "The expected departure time of a departing flight that is made publically. Made visible on the flight displays in the terminal, on the website, on the Schiphol app, on the information Terminals in the lounges etc.  \n",
    "\n",
    "- <font color='red'>**Actual Off Block time, AOBT (actualOffBlockTime):**</font>    \n",
    "The actual time of departure of a flight from Amsterdam Airport Schiphol.  \n",
    "\n",
    "- <font color='red'>**Expected time gate open (expectedTimeGateOpen):**</font>    \n",
    "The time the gated is expected to be opened by the flight handler.  \n",
    "\n",
    "- <font color='red'>**Expected time boarding (expectedTimeBoarding):**</font>    \n",
    "The expected time the boarding of passengers for a flight will start.  \n",
    "\n",
    "- <font color='red'>**Expected time closing (expectedTimeGateClosing):**</font>  \n",
    "The time it is expected that the gate will be closed by the flight handler.\n",
    "\n",
    "- <font color='red'>**Expected time on belt (expectedTimeOnBelt):**</font>    \n",
    "The time it is expected that the first luggage of a flight will be on the reclaim belt.  \n",
    "\n",
    "- <font color='red'>**Airline (airlineCode):**</font>    \n",
    "NVLS code of the airline  \n",
    "\n",
    "- <font color='red'>**Routes Eu (routesEu):**</font>    \n",
    "S (Schengen), E (Europe) or N (non-Europe)  \n",
    "\n",
    "- <font color='red'>**Visa (visa):**</font>    \n",
    "Destination requires visa (true) or not (false)  \n",
    "\n",
    "- <font color='red'>**Last Updated (lastUpdated):**</font>    \n",
    "Time of last update to flight in flight information system.  \n",
    "\n",
    "- <font color='red'>**Flight ID (id):**</font>    \n",
    "Unique identifier of the flight.  \n",
    "\n",
    "- <font color='red'>**Schema Version (schemaVersion):**</font>    \n",
    "Schema version of the API.  "
   ]
  },
  {
   "cell_type": "code",
   "execution_count": 5,
   "metadata": {},
   "outputs": [
    {
     "data": {
      "text/plain": [
       "512204"
      ]
     },
     "execution_count": 5,
     "metadata": {},
     "output_type": "execute_result"
    }
   ],
   "source": [
    "df[\"id\"].nunique()"
   ]
  },
  {
   "cell_type": "code",
   "execution_count": 6,
   "metadata": {},
   "outputs": [
    {
     "data": {
      "text/plain": [
       "7666"
      ]
     },
     "execution_count": 6,
     "metadata": {},
     "output_type": "execute_result"
    }
   ],
   "source": [
    "df[\"flightName\"].nunique()"
   ]
  },
  {
   "cell_type": "code",
   "execution_count": 7,
   "metadata": {},
   "outputs": [],
   "source": [
    "def missing_values_percentages(df):\n",
    "    percent_missing = df.isnull().sum() * 100 / len(df)\n",
    "    missing_value_df = pd.DataFrame({'column_name': df.columns,\n",
    "                                     'percent_missing': percent_missing})\n",
    "\n",
    "    missing_value_df = missing_value_df.sort_values('percent_missing', ascending=False)\n",
    "    return missing_value_df"
   ]
  },
  {
   "cell_type": "code",
   "execution_count": 8,
   "metadata": {},
   "outputs": [
    {
     "data": {
      "text/plain": [
       "<matplotlib.axes._subplots.AxesSubplot at 0x25f30b64e48>"
      ]
     },
     "execution_count": 8,
     "metadata": {},
     "output_type": "execute_result"
    },
    {
     "data": {
      "image/png": "[encoded data removed]",
      "text/plain": [
       "<Figure size 576x396 with 1 Axes>"
      ]
     },
     "metadata": {},
     "output_type": "display_data"
    }
   ],
   "source": [
    "df_missing_prc = missing_values_percentages(df.query(\"serviceType == 'J'\"))\n",
    "df_missing_prc.plot(kind='bar', x=\"column_name\", y=\"percent_missing\")"
   ]
  },
  {
   "cell_type": "code",
   "execution_count": 9,
   "metadata": {},
   "outputs": [],
   "source": [
    "import datetime"
   ]
  },
  {
   "cell_type": "code",
   "execution_count": 69,
   "metadata": {},
   "outputs": [
    {
     "name": "stdout",
     "output_type": "stream",
     "text": [
      "Wall time: 18 ms\n"
     ]
    },
    {
     "data": {
      "text/html": [
       "<div>\n",
       "<style scoped>\n",
       "    .dataframe tbody tr th:only-of-type {\n",
       "        vertical-align: middle;\n",
       "    }\n",
       "\n",
       "    .dataframe tbody tr th {\n",
       "        vertical-align: top;\n",
       "    }\n",
       "\n",
       "    .dataframe thead th {\n",
       "        text-align: right;\n",
       "    }\n",
       "</style>\n",
       "<table border=\"1\" class=\"dataframe\">\n",
       "  <thead>\n",
       "    <tr style=\"text-align: right;\">\n",
       "      <th></th>\n",
       "      <th>index</th>\n",
       "      <th>actualOffBlockTime</th>\n",
       "      <th>aircraftRegistration</th>\n",
       "      <th>aircraftType.iatamain</th>\n",
       "      <th>aircraftType.iatasub</th>\n",
       "      <th>airlineCode</th>\n",
       "      <th>baggageClaim</th>\n",
       "      <th>estimatedLandingTime</th>\n",
       "      <th>expectedTimeBoarding</th>\n",
       "      <th>expectedTimeGateClosing</th>\n",
       "      <th>...</th>\n",
       "      <th>publicFlightState.flightStates</th>\n",
       "      <th>route.destinations</th>\n",
       "      <th>scheduleDate</th>\n",
       "      <th>scheduleTime</th>\n",
       "      <th>serviceType</th>\n",
       "      <th>terminal</th>\n",
       "      <th>transferPositions</th>\n",
       "      <th>transferPositions.transferPositions</th>\n",
       "      <th>scheduleDateTime</th>\n",
       "      <th>scheduleDelaySeconds</th>\n",
       "    </tr>\n",
       "  </thead>\n",
       "  <tbody>\n",
       "    <tr>\n",
       "      <th>0</th>\n",
       "      <td>3</td>\n",
       "      <td>2018-01-01 03:22:00+01:00</td>\n",
       "      <td>PHPXB</td>\n",
       "      <td>NaN</td>\n",
       "      <td>NaN</td>\n",
       "      <td>148.0</td>\n",
       "      <td>NaN</td>\n",
       "      <td>NaN</td>\n",
       "      <td>NaN</td>\n",
       "      <td>NaN</td>\n",
       "      <td>...</td>\n",
       "      <td>['DEP']</td>\n",
       "      <td>['AMS']</td>\n",
       "      <td>2018-01-01</td>\n",
       "      <td>03:30:00</td>\n",
       "      <td>NaN</td>\n",
       "      <td>NaN</td>\n",
       "      <td>NaN</td>\n",
       "      <td>NaN</td>\n",
       "      <td>2018-01-01 03:30:00+01:00</td>\n",
       "      <td>-480.0</td>\n",
       "    </tr>\n",
       "    <tr>\n",
       "      <th>1</th>\n",
       "      <td>4</td>\n",
       "      <td>2018-01-01 05:58:22+01:00</td>\n",
       "      <td>PHHSJ</td>\n",
       "      <td>73H</td>\n",
       "      <td>73H</td>\n",
       "      <td>164.0</td>\n",
       "      <td>NaN</td>\n",
       "      <td>NaN</td>\n",
       "      <td>NaN</td>\n",
       "      <td>NaN</td>\n",
       "      <td>...</td>\n",
       "      <td>['DEP']</td>\n",
       "      <td>['SPC']</td>\n",
       "      <td>2018-01-01</td>\n",
       "      <td>06:00:00</td>\n",
       "      <td>J</td>\n",
       "      <td>1.0</td>\n",
       "      <td>NaN</td>\n",
       "      <td>NaN</td>\n",
       "      <td>2018-01-01 06:00:00+01:00</td>\n",
       "      <td>-98.0</td>\n",
       "    </tr>\n",
       "    <tr>\n",
       "      <th>2</th>\n",
       "      <td>5</td>\n",
       "      <td>2018-01-01 06:00:00+01:00</td>\n",
       "      <td>PHHSG</td>\n",
       "      <td>73H</td>\n",
       "      <td>73H</td>\n",
       "      <td>100.0</td>\n",
       "      <td>NaN</td>\n",
       "      <td>NaN</td>\n",
       "      <td>NaN</td>\n",
       "      <td>NaN</td>\n",
       "      <td>...</td>\n",
       "      <td>['DEP']</td>\n",
       "      <td>['LPA']</td>\n",
       "      <td>2018-01-01</td>\n",
       "      <td>06:05:00</td>\n",
       "      <td>J</td>\n",
       "      <td>1.0</td>\n",
       "      <td>NaN</td>\n",
       "      <td>NaN</td>\n",
       "      <td>2018-01-01 06:05:00+01:00</td>\n",
       "      <td>-300.0</td>\n",
       "    </tr>\n",
       "    <tr>\n",
       "      <th>3</th>\n",
       "      <td>6</td>\n",
       "      <td>2018-01-01 06:00:00+01:00</td>\n",
       "      <td>PHHSG</td>\n",
       "      <td>73H</td>\n",
       "      <td>73H</td>\n",
       "      <td>164.0</td>\n",
       "      <td>NaN</td>\n",
       "      <td>NaN</td>\n",
       "      <td>NaN</td>\n",
       "      <td>NaN</td>\n",
       "      <td>...</td>\n",
       "      <td>['DEP']</td>\n",
       "      <td>['LPA']</td>\n",
       "      <td>2018-01-01</td>\n",
       "      <td>06:05:00</td>\n",
       "      <td>J</td>\n",
       "      <td>1.0</td>\n",
       "      <td>NaN</td>\n",
       "      <td>NaN</td>\n",
       "      <td>2018-01-01 06:05:00+01:00</td>\n",
       "      <td>-300.0</td>\n",
       "    </tr>\n",
       "    <tr>\n",
       "      <th>4</th>\n",
       "      <td>7</td>\n",
       "      <td>2018-01-01 06:26:34+01:00</td>\n",
       "      <td>PHHXB</td>\n",
       "      <td>73H</td>\n",
       "      <td>73H</td>\n",
       "      <td>164.0</td>\n",
       "      <td>NaN</td>\n",
       "      <td>NaN</td>\n",
       "      <td>NaN</td>\n",
       "      <td>NaN</td>\n",
       "      <td>...</td>\n",
       "      <td>['DEP']</td>\n",
       "      <td>['TLV']</td>\n",
       "      <td>2018-01-01</td>\n",
       "      <td>06:15:00</td>\n",
       "      <td>J</td>\n",
       "      <td>1.0</td>\n",
       "      <td>NaN</td>\n",
       "      <td>NaN</td>\n",
       "      <td>2018-01-01 06:15:00+01:00</td>\n",
       "      <td>694.0</td>\n",
       "    </tr>\n",
       "  </tbody>\n",
       "</table>\n",
       "<p>5 rows × 31 columns</p>\n",
       "</div>"
      ],
      "text/plain": [
       "   index        actualOffBlockTime aircraftRegistration aircraftType.iatamain  \\\n",
       "0      3 2018-01-01 03:22:00+01:00                PHPXB                   NaN   \n",
       "1      4 2018-01-01 05:58:22+01:00                PHHSJ                   73H   \n",
       "2      5 2018-01-01 06:00:00+01:00                PHHSG                   73H   \n",
       "3      6 2018-01-01 06:00:00+01:00                PHHSG                   73H   \n",
       "4      7 2018-01-01 06:26:34+01:00                PHHXB                   73H   \n",
       "\n",
       "  aircraftType.iatasub  airlineCode  baggageClaim  estimatedLandingTime  \\\n",
       "0                  NaN        148.0           NaN                   NaN   \n",
       "1                  73H        164.0           NaN                   NaN   \n",
       "2                  73H        100.0           NaN                   NaN   \n",
       "3                  73H        164.0           NaN                   NaN   \n",
       "4                  73H        164.0           NaN                   NaN   \n",
       "\n",
       "  expectedTimeBoarding expectedTimeGateClosing  ...  \\\n",
       "0                  NaN                     NaN  ...   \n",
       "1                  NaN                     NaN  ...   \n",
       "2                  NaN                     NaN  ...   \n",
       "3                  NaN                     NaN  ...   \n",
       "4                  NaN                     NaN  ...   \n",
       "\n",
       "  publicFlightState.flightStates  route.destinations scheduleDate  \\\n",
       "0                        ['DEP']             ['AMS']   2018-01-01   \n",
       "1                        ['DEP']             ['SPC']   2018-01-01   \n",
       "2                        ['DEP']             ['LPA']   2018-01-01   \n",
       "3                        ['DEP']             ['LPA']   2018-01-01   \n",
       "4                        ['DEP']             ['TLV']   2018-01-01   \n",
       "\n",
       "  scheduleTime  serviceType terminal  transferPositions  \\\n",
       "0     03:30:00          NaN      NaN                NaN   \n",
       "1     06:00:00            J      1.0                NaN   \n",
       "2     06:05:00            J      1.0                NaN   \n",
       "3     06:05:00            J      1.0                NaN   \n",
       "4     06:15:00            J      1.0                NaN   \n",
       "\n",
       "  transferPositions.transferPositions          scheduleDateTime  \\\n",
       "0                                 NaN 2018-01-01 03:30:00+01:00   \n",
       "1                                 NaN 2018-01-01 06:00:00+01:00   \n",
       "2                                 NaN 2018-01-01 06:05:00+01:00   \n",
       "3                                 NaN 2018-01-01 06:05:00+01:00   \n",
       "4                                 NaN 2018-01-01 06:15:00+01:00   \n",
       "\n",
       "  scheduleDelaySeconds  \n",
       "0               -480.0  \n",
       "1                -98.0  \n",
       "2               -300.0  \n",
       "3               -300.0  \n",
       "4                694.0  \n",
       "\n",
       "[5 rows x 31 columns]"
      ]
     },
     "execution_count": 69,
     "metadata": {},
     "output_type": "execute_result"
    }
   ],
   "source": [
    "%%time\n",
    "\n",
    "def preprocess_flights(df):\n",
    "    df = df.dropna(subset=[\"scheduleDate\", \"scheduleTime\", \"actualOffBlockTime\"]).reset_index()\n",
    "    df[\"actualOffBlockTime\"] = pd.to_datetime(df[\"actualOffBlockTime\"]).dt.tz_convert('Europe/Amsterdam')\n",
    "    \n",
    "    series_datetime_str = df['scheduleDate'].astype(str) + \" \" + df['scheduleTime'].astype(str)\n",
    "    df[\"scheduleDateTime\"] = pd.to_datetime(series_datetime_str, format=\"%Y%m%d %H:%M:%S\").dt.tz_localize('Europe/Amsterdam')\n",
    "    df[\"scheduleDelaySeconds\"] = pd.to_timedelta(df[\"actualOffBlockTime\"] - df[\"scheduleDateTime\"]).dt.total_seconds()\n",
    "    \n",
    "    return df\n",
    "    \n",
    "df_preprocessed = preprocess_flights(df.head(1000))\n",
    "df_preprocessed.head()"
   ]
  },
  {
   "cell_type": "markdown",
   "metadata": {},
   "source": [
    "## Delays over time"
   ]
  },
  {
   "cell_type": "code",
   "execution_count": 71,
   "metadata": {},
   "outputs": [
    {
     "data": {
      "text/plain": [
       "<matplotlib.axes._subplots.AxesSubplot at 0x25f0027e348>"
      ]
     },
     "execution_count": 71,
     "metadata": {},
     "output_type": "execute_result"
    },
    {
     "data": {
      "image/png": "[encoded data removed]",
      "text/plain": [
       "<Figure size 576x396 with 1 Axes>"
      ]
     },
     "metadata": {},
     "output_type": "display_data"
    }
   ],
   "source": [
    "df_preprocessed.plot(kind='scatter', x='scheduleDateTime', y='scheduleDelaySeconds')"
   ]
  },
  {
   "cell_type": "code",
   "execution_count": 44,
   "metadata": {
    "collapsed": true,
    "jupyter": {
     "outputs_hidden": true,
     "source_hidden": true
    }
   },
   "outputs": [
    {
     "name": "stderr",
     "output_type": "stream",
     "text": [
      "C:\\Users\\lodew\\anaconda3\\envs\\schiphol-py\\lib\\site-packages\\ipykernel_launcher.py:24: SettingWithCopyWarning: \n",
      "A value is trying to be set on a copy of a slice from a DataFrame.\n",
      "Try using .loc[row_indexer,col_indexer] = value instead\n",
      "\n",
      "See the caveats in the documentation: https://pandas.pydata.org/pandas-docs/stable/user_guide/indexing.html#returning-a-view-versus-a-copy\n",
      "C:\\Users\\lodew\\anaconda3\\envs\\schiphol-py\\lib\\site-packages\\ipykernel_launcher.py:26: SettingWithCopyWarning: \n",
      "A value is trying to be set on a copy of a slice from a DataFrame.\n",
      "Try using .loc[row_indexer,col_indexer] = value instead\n",
      "\n",
      "See the caveats in the documentation: https://pandas.pydata.org/pandas-docs/stable/user_guide/indexing.html#returning-a-view-versus-a-copy\n",
      "C:\\Users\\lodew\\anaconda3\\envs\\schiphol-py\\lib\\site-packages\\ipykernel_launcher.py:27: SettingWithCopyWarning: \n",
      "A value is trying to be set on a copy of a slice from a DataFrame.\n",
      "Try using .loc[row_indexer,col_indexer] = value instead\n",
      "\n",
      "See the caveats in the documentation: https://pandas.pydata.org/pandas-docs/stable/user_guide/indexing.html#returning-a-view-versus-a-copy\n",
      "C:\\Users\\lodew\\anaconda3\\envs\\schiphol-py\\lib\\site-packages\\ipykernel_launcher.py:28: SettingWithCopyWarning: \n",
      "A value is trying to be set on a copy of a slice from a DataFrame.\n",
      "Try using .loc[row_indexer,col_indexer] = value instead\n",
      "\n",
      "See the caveats in the documentation: https://pandas.pydata.org/pandas-docs/stable/user_guide/indexing.html#returning-a-view-versus-a-copy\n",
      "C:\\Users\\lodew\\anaconda3\\envs\\schiphol-py\\lib\\site-packages\\ipykernel_launcher.py:29: SettingWithCopyWarning: \n",
      "A value is trying to be set on a copy of a slice from a DataFrame.\n",
      "Try using .loc[row_indexer,col_indexer] = value instead\n",
      "\n",
      "See the caveats in the documentation: https://pandas.pydata.org/pandas-docs/stable/user_guide/indexing.html#returning-a-view-versus-a-copy\n",
      "C:\\Users\\lodew\\anaconda3\\envs\\schiphol-py\\lib\\site-packages\\ipykernel_launcher.py:32: SettingWithCopyWarning: \n",
      "A value is trying to be set on a copy of a slice from a DataFrame.\n",
      "Try using .loc[row_indexer,col_indexer] = value instead\n",
      "\n",
      "See the caveats in the documentation: https://pandas.pydata.org/pandas-docs/stable/user_guide/indexing.html#returning-a-view-versus-a-copy\n",
      "C:\\Users\\lodew\\anaconda3\\envs\\schiphol-py\\lib\\site-packages\\ipykernel_launcher.py:35: SettingWithCopyWarning: \n",
      "A value is trying to be set on a copy of a slice from a DataFrame.\n",
      "Try using .loc[row_indexer,col_indexer] = value instead\n",
      "\n",
      "See the caveats in the documentation: https://pandas.pydata.org/pandas-docs/stable/user_guide/indexing.html#returning-a-view-versus-a-copy\n",
      "C:\\Users\\lodew\\anaconda3\\envs\\schiphol-py\\lib\\site-packages\\ipykernel_launcher.py:36: SettingWithCopyWarning: \n",
      "A value is trying to be set on a copy of a slice from a DataFrame.\n",
      "Try using .loc[row_indexer,col_indexer] = value instead\n",
      "\n",
      "See the caveats in the documentation: https://pandas.pydata.org/pandas-docs/stable/user_guide/indexing.html#returning-a-view-versus-a-copy\n"
     ]
    },
    {
     "ename": "KeyError",
     "evalue": "'checkinAllocations'",
     "output_type": "error",
     "traceback": [
      "\u001b[1;31m---------------------------------------------------------------------------\u001b[0m",
      "\u001b[1;31mKeyError\u001b[0m                                  Traceback (most recent call last)",
      "\u001b[1;32m~\\anaconda3\\envs\\schiphol-py\\lib\\site-packages\\pandas\\core\\indexes\\base.py\u001b[0m in \u001b[0;36mget_loc\u001b[1;34m(self, key, method, tolerance)\u001b[0m\n\u001b[0;32m   2645\u001b[0m             \u001b[1;32mtry\u001b[0m\u001b[1;33m:\u001b[0m\u001b[1;33m\u001b[0m\u001b[1;33m\u001b[0m\u001b[0m\n\u001b[1;32m-> 2646\u001b[1;33m                 \u001b[1;32mreturn\u001b[0m \u001b[0mself\u001b[0m\u001b[1;33m.\u001b[0m\u001b[0m_engine\u001b[0m\u001b[1;33m.\u001b[0m\u001b[0mget_loc\u001b[0m\u001b[1;33m(\u001b[0m\u001b[0mkey\u001b[0m\u001b[1;33m)\u001b[0m\u001b[1;33m\u001b[0m\u001b[1;33m\u001b[0m\u001b[0m\n\u001b[0m\u001b[0;32m   2647\u001b[0m             \u001b[1;32mexcept\u001b[0m \u001b[0mKeyError\u001b[0m\u001b[1;33m:\u001b[0m\u001b[1;33m\u001b[0m\u001b[1;33m\u001b[0m\u001b[0m\n",
      "\u001b[1;32mpandas\\_libs\\index.pyx\u001b[0m in \u001b[0;36mpandas._libs.index.IndexEngine.get_loc\u001b[1;34m()\u001b[0m\n",
      "\u001b[1;32mpandas\\_libs\\index.pyx\u001b[0m in \u001b[0;36mpandas._libs.index.IndexEngine.get_loc\u001b[1;34m()\u001b[0m\n",
      "\u001b[1;32mpandas\\_libs\\hashtable_class_helper.pxi\u001b[0m in \u001b[0;36mpandas._libs.hashtable.PyObjectHashTable.get_item\u001b[1;34m()\u001b[0m\n",
      "\u001b[1;32mpandas\\_libs\\hashtable_class_helper.pxi\u001b[0m in \u001b[0;36mpandas._libs.hashtable.PyObjectHashTable.get_item\u001b[1;34m()\u001b[0m\n",
      "\u001b[1;31mKeyError\u001b[0m: 'checkinAllocations'",
      "\nDuring handling of the above exception, another exception occurred:\n",
      "\u001b[1;31mKeyError\u001b[0m                                  Traceback (most recent call last)",
      "\u001b[1;32m<ipython-input-44-c6c6357a9cbe>\u001b[0m in \u001b[0;36m<module>\u001b[1;34m\u001b[0m\n\u001b[0;32m     65\u001b[0m     \u001b[1;32mreturn\u001b[0m \u001b[0mdf_flights\u001b[0m\u001b[1;33m\u001b[0m\u001b[1;33m\u001b[0m\u001b[0m\n\u001b[0;32m     66\u001b[0m \u001b[1;33m\u001b[0m\u001b[0m\n\u001b[1;32m---> 67\u001b[1;33m \u001b[0mjson_to_df\u001b[0m\u001b[1;33m(\u001b[0m\u001b[0mdf\u001b[0m\u001b[1;33m.\u001b[0m\u001b[0mhead\u001b[0m\u001b[1;33m(\u001b[0m\u001b[1;36m100\u001b[0m\u001b[1;33m)\u001b[0m\u001b[1;33m)\u001b[0m\u001b[1;33m\u001b[0m\u001b[1;33m\u001b[0m\u001b[0m\n\u001b[0m",
      "\u001b[1;32m<ipython-input-44-c6c6357a9cbe>\u001b[0m in \u001b[0;36mjson_to_df\u001b[1;34m(data)\u001b[0m\n\u001b[0;32m     35\u001b[0m     \u001b[0mdf_flights\u001b[0m\u001b[1;33m[\u001b[0m\u001b[1;34m'aircraftRegistration'\u001b[0m\u001b[1;33m]\u001b[0m \u001b[1;33m=\u001b[0m \u001b[0mdf_flights\u001b[0m\u001b[1;33m[\u001b[0m\u001b[1;34m'aircraftRegistration'\u001b[0m\u001b[1;33m]\u001b[0m\u001b[1;33m.\u001b[0m\u001b[0mastype\u001b[0m\u001b[1;33m(\u001b[0m\u001b[0mstr\u001b[0m\u001b[1;33m)\u001b[0m\u001b[1;33m\u001b[0m\u001b[1;33m\u001b[0m\u001b[0m\n\u001b[0;32m     36\u001b[0m     \u001b[0mdf_flights\u001b[0m\u001b[1;33m[\u001b[0m\u001b[1;34m'baggageClaim'\u001b[0m\u001b[1;33m]\u001b[0m \u001b[1;33m=\u001b[0m \u001b[0mdf_flights\u001b[0m\u001b[1;33m[\u001b[0m\u001b[1;34m'baggageClaim'\u001b[0m\u001b[1;33m]\u001b[0m\u001b[1;33m.\u001b[0m\u001b[0mastype\u001b[0m\u001b[1;33m(\u001b[0m\u001b[0mstr\u001b[0m\u001b[1;33m)\u001b[0m\u001b[1;33m\u001b[0m\u001b[1;33m\u001b[0m\u001b[0m\n\u001b[1;32m---> 37\u001b[1;33m     \u001b[0mdf_flights\u001b[0m\u001b[1;33m[\u001b[0m\u001b[1;34m'checkinAllocations'\u001b[0m\u001b[1;33m]\u001b[0m \u001b[1;33m=\u001b[0m \u001b[0mdf_flights\u001b[0m\u001b[1;33m[\u001b[0m\u001b[1;34m'checkinAllocations'\u001b[0m\u001b[1;33m]\u001b[0m\u001b[1;33m.\u001b[0m\u001b[0mastype\u001b[0m\u001b[1;33m(\u001b[0m\u001b[0mstr\u001b[0m\u001b[1;33m)\u001b[0m\u001b[1;33m\u001b[0m\u001b[1;33m\u001b[0m\u001b[0m\n\u001b[0m\u001b[0;32m     38\u001b[0m     \u001b[0mdf_flights\u001b[0m\u001b[1;33m[\u001b[0m\u001b[1;34m'codeshares'\u001b[0m\u001b[1;33m]\u001b[0m \u001b[1;33m=\u001b[0m \u001b[0mdf_flights\u001b[0m\u001b[1;33m[\u001b[0m\u001b[1;34m'codeshares'\u001b[0m\u001b[1;33m]\u001b[0m\u001b[1;33m.\u001b[0m\u001b[0mastype\u001b[0m\u001b[1;33m(\u001b[0m\u001b[0mstr\u001b[0m\u001b[1;33m)\u001b[0m\u001b[1;33m\u001b[0m\u001b[1;33m\u001b[0m\u001b[0m\n\u001b[0;32m     39\u001b[0m     \u001b[0mdf_flights\u001b[0m\u001b[1;33m[\u001b[0m\u001b[1;34m'expectedSecurityFilter'\u001b[0m\u001b[1;33m]\u001b[0m \u001b[1;33m=\u001b[0m \u001b[0mdf_flights\u001b[0m\u001b[1;33m[\u001b[0m\u001b[1;34m'expectedSecurityFilter'\u001b[0m\u001b[1;33m]\u001b[0m\u001b[1;33m.\u001b[0m\u001b[0mastype\u001b[0m\u001b[1;33m(\u001b[0m\u001b[0mstr\u001b[0m\u001b[1;33m)\u001b[0m\u001b[1;33m\u001b[0m\u001b[1;33m\u001b[0m\u001b[0m\n",
      "\u001b[1;32m~\\anaconda3\\envs\\schiphol-py\\lib\\site-packages\\pandas\\core\\frame.py\u001b[0m in \u001b[0;36m__getitem__\u001b[1;34m(self, key)\u001b[0m\n\u001b[0;32m   2798\u001b[0m             \u001b[1;32mif\u001b[0m \u001b[0mself\u001b[0m\u001b[1;33m.\u001b[0m\u001b[0mcolumns\u001b[0m\u001b[1;33m.\u001b[0m\u001b[0mnlevels\u001b[0m \u001b[1;33m>\u001b[0m \u001b[1;36m1\u001b[0m\u001b[1;33m:\u001b[0m\u001b[1;33m\u001b[0m\u001b[1;33m\u001b[0m\u001b[0m\n\u001b[0;32m   2799\u001b[0m                 \u001b[1;32mreturn\u001b[0m \u001b[0mself\u001b[0m\u001b[1;33m.\u001b[0m\u001b[0m_getitem_multilevel\u001b[0m\u001b[1;33m(\u001b[0m\u001b[0mkey\u001b[0m\u001b[1;33m)\u001b[0m\u001b[1;33m\u001b[0m\u001b[1;33m\u001b[0m\u001b[0m\n\u001b[1;32m-> 2800\u001b[1;33m             \u001b[0mindexer\u001b[0m \u001b[1;33m=\u001b[0m \u001b[0mself\u001b[0m\u001b[1;33m.\u001b[0m\u001b[0mcolumns\u001b[0m\u001b[1;33m.\u001b[0m\u001b[0mget_loc\u001b[0m\u001b[1;33m(\u001b[0m\u001b[0mkey\u001b[0m\u001b[1;33m)\u001b[0m\u001b[1;33m\u001b[0m\u001b[1;33m\u001b[0m\u001b[0m\n\u001b[0m\u001b[0;32m   2801\u001b[0m             \u001b[1;32mif\u001b[0m \u001b[0mis_integer\u001b[0m\u001b[1;33m(\u001b[0m\u001b[0mindexer\u001b[0m\u001b[1;33m)\u001b[0m\u001b[1;33m:\u001b[0m\u001b[1;33m\u001b[0m\u001b[1;33m\u001b[0m\u001b[0m\n\u001b[0;32m   2802\u001b[0m                 \u001b[0mindexer\u001b[0m \u001b[1;33m=\u001b[0m \u001b[1;33m[\u001b[0m\u001b[0mindexer\u001b[0m\u001b[1;33m]\u001b[0m\u001b[1;33m\u001b[0m\u001b[1;33m\u001b[0m\u001b[0m\n",
      "\u001b[1;32m~\\anaconda3\\envs\\schiphol-py\\lib\\site-packages\\pandas\\core\\indexes\\base.py\u001b[0m in \u001b[0;36mget_loc\u001b[1;34m(self, key, method, tolerance)\u001b[0m\n\u001b[0;32m   2646\u001b[0m                 \u001b[1;32mreturn\u001b[0m \u001b[0mself\u001b[0m\u001b[1;33m.\u001b[0m\u001b[0m_engine\u001b[0m\u001b[1;33m.\u001b[0m\u001b[0mget_loc\u001b[0m\u001b[1;33m(\u001b[0m\u001b[0mkey\u001b[0m\u001b[1;33m)\u001b[0m\u001b[1;33m\u001b[0m\u001b[1;33m\u001b[0m\u001b[0m\n\u001b[0;32m   2647\u001b[0m             \u001b[1;32mexcept\u001b[0m \u001b[0mKeyError\u001b[0m\u001b[1;33m:\u001b[0m\u001b[1;33m\u001b[0m\u001b[1;33m\u001b[0m\u001b[0m\n\u001b[1;32m-> 2648\u001b[1;33m                 \u001b[1;32mreturn\u001b[0m \u001b[0mself\u001b[0m\u001b[1;33m.\u001b[0m\u001b[0m_engine\u001b[0m\u001b[1;33m.\u001b[0m\u001b[0mget_loc\u001b[0m\u001b[1;33m(\u001b[0m\u001b[0mself\u001b[0m\u001b[1;33m.\u001b[0m\u001b[0m_maybe_cast_indexer\u001b[0m\u001b[1;33m(\u001b[0m\u001b[0mkey\u001b[0m\u001b[1;33m)\u001b[0m\u001b[1;33m)\u001b[0m\u001b[1;33m\u001b[0m\u001b[1;33m\u001b[0m\u001b[0m\n\u001b[0m\u001b[0;32m   2649\u001b[0m         \u001b[0mindexer\u001b[0m \u001b[1;33m=\u001b[0m \u001b[0mself\u001b[0m\u001b[1;33m.\u001b[0m\u001b[0mget_indexer\u001b[0m\u001b[1;33m(\u001b[0m\u001b[1;33m[\u001b[0m\u001b[0mkey\u001b[0m\u001b[1;33m]\u001b[0m\u001b[1;33m,\u001b[0m \u001b[0mmethod\u001b[0m\u001b[1;33m=\u001b[0m\u001b[0mmethod\u001b[0m\u001b[1;33m,\u001b[0m \u001b[0mtolerance\u001b[0m\u001b[1;33m=\u001b[0m\u001b[0mtolerance\u001b[0m\u001b[1;33m)\u001b[0m\u001b[1;33m\u001b[0m\u001b[1;33m\u001b[0m\u001b[0m\n\u001b[0;32m   2650\u001b[0m         \u001b[1;32mif\u001b[0m \u001b[0mindexer\u001b[0m\u001b[1;33m.\u001b[0m\u001b[0mndim\u001b[0m \u001b[1;33m>\u001b[0m \u001b[1;36m1\u001b[0m \u001b[1;32mor\u001b[0m \u001b[0mindexer\u001b[0m\u001b[1;33m.\u001b[0m\u001b[0msize\u001b[0m \u001b[1;33m>\u001b[0m \u001b[1;36m1\u001b[0m\u001b[1;33m:\u001b[0m\u001b[1;33m\u001b[0m\u001b[1;33m\u001b[0m\u001b[0m\n",
      "\u001b[1;32mpandas\\_libs\\index.pyx\u001b[0m in \u001b[0;36mpandas._libs.index.IndexEngine.get_loc\u001b[1;34m()\u001b[0m\n",
      "\u001b[1;32mpandas\\_libs\\index.pyx\u001b[0m in \u001b[0;36mpandas._libs.index.IndexEngine.get_loc\u001b[1;34m()\u001b[0m\n",
      "\u001b[1;32mpandas\\_libs\\hashtable_class_helper.pxi\u001b[0m in \u001b[0;36mpandas._libs.hashtable.PyObjectHashTable.get_item\u001b[1;34m()\u001b[0m\n",
      "\u001b[1;32mpandas\\_libs\\hashtable_class_helper.pxi\u001b[0m in \u001b[0;36mpandas._libs.hashtable.PyObjectHashTable.get_item\u001b[1;34m()\u001b[0m\n",
      "\u001b[1;31mKeyError\u001b[0m: 'checkinAllocations'"
     ]
    }
   ],
   "source": [
    "def json_to_df(data):\n",
    "    df_flights = data\n",
    "\n",
    "    #Expand publicFlightState\n",
    "# #     df_flights['publicFlightState'] = df_flights['publicFlightState'].apply(lambda x: {} if pd.isna(x) else x)\n",
    "#     df_flights['publicFlightState'] = pd.json_normalize(df_flights['publicFlightState'])\n",
    "\n",
    "#     # Expand codeshares\n",
    "#     df_flights['codeshares'] = df_flights['codeshares'].apply(lambda x: {} if pd.isna(x) else x)\n",
    "#     df_flights['codeshares'] = pd.json_normalize(df_flights['codeshares'])\n",
    "\n",
    "#     # Expand transferPosition\n",
    "#     df_flights['transferPositions'] = df_flights['transferPositions'].apply(lambda x: {} if pd.isna(x) else x)\n",
    "#     df_flights['transferPositions'] = pd.json_normalize(df_flights['transferPositions'])\n",
    "\n",
    "#     # add datetime of merge\n",
    "#     df_flights['mergeDateTime'] = datetime.datetime.now()\n",
    "#     df_flights = df_flights.set_index('id')\n",
    "\n",
    "\n",
    "\n",
    "    # fix all dtypes\n",
    "#     df_flights['actualLandingTime'] = pd.to_datetime(df_flights['actualLandingTime'])\n",
    "    df_flights['actualOffBlockTime'] = pd.to_datetime(df_flights['actualOffBlockTime'])\n",
    "#     df_flights['estimatedLandingTime'] = pd.to_datetime(df_flights['estimatedLandingTime'])\n",
    "    df_flights['expectedTimeBoarding'] = pd.to_datetime(df_flights['expectedTimeBoarding'])\n",
    "    df_flights['expectedTimeGateClosing'] = pd.to_datetime(df_flights['expectedTimeGateClosing'])\n",
    "    df_flights['expectedTimeGateOpen'] = pd.to_datetime(df_flights['expectedTimeGateOpen'])\n",
    "    df_flights['expectedTimeOnBelt'] = pd.to_datetime(df_flights['expectedTimeOnBelt'])\n",
    "#     df_flights['lastUpdatedAt'] = pd.to_datetime(df_flights['lastUpdatedAt'])\n",
    "#     df_flights['publicEstimatedOffBlockTime'] = pd.to_datetime(df_flights['publicEstimatedOffBlockTime'])\n",
    "    df_flights['scheduleDateTime'] = pd.to_datetime(df_flights['scheduleDateTime'])\n",
    "#     df_flights['mergeDateTime'] = pd.to_datetime(df_flights['mergeDateTime'])\n",
    "\n",
    "    df_flights['aircraftRegistration'] = df_flights['aircraftRegistration'].astype(str)\n",
    "    df_flights['baggageClaim'] = df_flights['baggageClaim'].astype(str)\n",
    "    df_flights['checkinAllocations'] = df_flights['checkinAllocations'].astype(str)\n",
    "    df_flights['codeshares'] = df_flights['codeshares'].astype(str)\n",
    "    df_flights['expectedSecurityFilter'] = df_flights['expectedSecurityFilter'].astype(str)\n",
    "    df_flights['flightDirection'] = df_flights['flightDirection'].astype(str)\n",
    "    df_flights['flightName'] = df_flights['flightName'].astype(str)\n",
    "    df_flights['flightNumber'] = df_flights['flightNumber'].astype(str)\n",
    "    df_flights['gate'] = df_flights['gate'].astype(str)\n",
    "    df_flights['mainFlight'] = df_flights['mainFlight'].astype(str)\n",
    "    df_flights['pier'] = df_flights['pier'].astype(str)\n",
    "    df_flights['prefixIATA'] = df_flights['prefixIATA'].astype(str)\n",
    "    df_flights['prefixICAO'] = df_flights['prefixICAO'].astype(str)\n",
    "    df_flights['publicFlightState'] = df_flights['publicFlightState'].astype(str)\n",
    "    df_flights['destinations'] = df_flights['destinations'].astype(str)\n",
    "    df_flights['eu'] = df_flights['eu'].astype(str)\n",
    "    df_flights['serviceType'] = df_flights['serviceType'].astype(str)\n",
    "    df_flights['aircraftType.iataMain'] = df_flights['aircraftType.iataMain'].astype(str)\n",
    "    df_flights['aircraftType.iataSub'] = df_flights['aircraftType.iataSub'].astype(str)\n",
    "\n",
    "    df_flights['airlineCode'] = df_flights['airlineCode'].astype(float)\n",
    "    df_flights['terminal'] = df_flights['terminal'].astype(float)\n",
    "\n",
    "    df_flights['visa'] = df_flights['visa'].astype(bool)\n",
    "\n",
    "\n",
    "    # drop columns \n",
    "    df_flights = df_flights.drop(columns=['schemaVersion', 'scheduleTime', 'scheduleDate'])\n",
    "\n",
    "\n",
    "    return df_flights\n",
    "\n",
    "json_to_df(df.head(100))"
   ]
  },
  {
   "cell_type": "code",
   "execution_count": 77,
   "metadata": {},
   "outputs": [],
   "source": [
    "df_y = df_preprocessed[\"scheduleDelaySeconds\"]\n",
    "df_x = df_preprocessed[[\"scheduleDateTime\", \"gate\", \"prefixIATA\", \"prefixICAO\", \"serviceType\", \"terminal\"]]"
   ]
  },
  {
   "cell_type": "code",
   "execution_count": 215,
   "metadata": {},
   "outputs": [
    {
     "data": {
      "text/plain": [
       "454.20201005025126"
      ]
     },
     "execution_count": 215,
     "metadata": {},
     "output_type": "execute_result"
    }
   ],
   "source": [
    "df_y.mean()"
   ]
  },
  {
   "cell_type": "markdown",
   "metadata": {},
   "source": [
    "# First toy model"
   ]
  },
  {
   "cell_type": "code",
   "execution_count": 159,
   "metadata": {},
   "outputs": [
    {
     "name": "stderr",
     "output_type": "stream",
     "text": [
      "C:\\Users\\lodew\\anaconda3\\envs\\schiphol-py\\lib\\site-packages\\ipykernel_launcher.py:43: SettingWithCopyWarning: \n",
      "A value is trying to be set on a copy of a slice from a DataFrame.\n",
      "Try using .loc[row_indexer,col_indexer] = value instead\n",
      "\n",
      "See the caveats in the documentation: https://pandas.pydata.org/pandas-docs/stable/user_guide/indexing.html#returning-a-view-versus-a-copy\n",
      "C:\\Users\\lodew\\anaconda3\\envs\\schiphol-py\\lib\\site-packages\\ipykernel_launcher.py:44: SettingWithCopyWarning: \n",
      "A value is trying to be set on a copy of a slice from a DataFrame.\n",
      "Try using .loc[row_indexer,col_indexer] = value instead\n",
      "\n",
      "See the caveats in the documentation: https://pandas.pydata.org/pandas-docs/stable/user_guide/indexing.html#returning-a-view-versus-a-copy\n"
     ]
    },
    {
     "data": {
      "text/html": [
       "<div>\n",
       "<style scoped>\n",
       "    .dataframe tbody tr th:only-of-type {\n",
       "        vertical-align: middle;\n",
       "    }\n",
       "\n",
       "    .dataframe tbody tr th {\n",
       "        vertical-align: top;\n",
       "    }\n",
       "\n",
       "    .dataframe thead th {\n",
       "        text-align: right;\n",
       "    }\n",
       "</style>\n",
       "<table border=\"1\" class=\"dataframe\">\n",
       "  <thead>\n",
       "    <tr style=\"text-align: right;\">\n",
       "      <th></th>\n",
       "      <th>dayOfWeek</th>\n",
       "      <th>hourOfDay</th>\n",
       "    </tr>\n",
       "  </thead>\n",
       "  <tbody>\n",
       "    <tr>\n",
       "      <th>0</th>\n",
       "      <td>0</td>\n",
       "      <td>3</td>\n",
       "    </tr>\n",
       "    <tr>\n",
       "      <th>1</th>\n",
       "      <td>0</td>\n",
       "      <td>6</td>\n",
       "    </tr>\n",
       "    <tr>\n",
       "      <th>2</th>\n",
       "      <td>0</td>\n",
       "      <td>6</td>\n",
       "    </tr>\n",
       "    <tr>\n",
       "      <th>3</th>\n",
       "      <td>0</td>\n",
       "      <td>6</td>\n",
       "    </tr>\n",
       "    <tr>\n",
       "      <th>4</th>\n",
       "      <td>0</td>\n",
       "      <td>6</td>\n",
       "    </tr>\n",
       "  </tbody>\n",
       "</table>\n",
       "</div>"
      ],
      "text/plain": [
       "   dayOfWeek  hourOfDay\n",
       "0          0          3\n",
       "1          0          6\n",
       "2          0          6\n",
       "3          0          6\n",
       "4          0          6"
      ]
     },
     "execution_count": 159,
     "metadata": {},
     "output_type": "execute_result"
    }
   ],
   "source": [
    "# standard\n",
    "import time\n",
    "import numpy as np\n",
    "import pandas as pd\n",
    "from tqdm import tqdm\n",
    "\n",
    "# sklearn\n",
    "from sklearn.base import BaseEstimator, TransformerMixin\n",
    "\n",
    "\n",
    "class IdentityTransformer(BaseEstimator, TransformerMixin):\n",
    "    def __init__(self):\n",
    "        pass\n",
    "    \n",
    "    def fit(self, input_array, y=None):\n",
    "        return self\n",
    "    \n",
    "    def transform(self, X, y=None):\n",
    "        return X\n",
    "\n",
    "\n",
    "class scheduleDateTransformer(BaseEstimator, TransformerMixin):\n",
    "    def __init__(self):\n",
    "        pass\n",
    "    \n",
    "    @property\n",
    "    def output_columns(self):\n",
    "        return [\"dayOfWeek\", \"hourOfDay\"]\n",
    "    \n",
    "    def fit(self, X, y=None):\n",
    "        return self\n",
    "    \n",
    "    def transform(self, X, y=None):\n",
    "        X[\"dayOfWeek\"] = X[\"scheduleDateTime\"].dt.dayofweek\n",
    "        X[\"hourOfDay\"] = X[\"scheduleDateTime\"].dt.hour\n",
    "        \n",
    "        return X[self.output_columns]\n",
    "\n",
    "class categoryImputer(BaseEstimator, TransformerMixin):\n",
    "    \n",
    "    def __init__(self, category_columns):\n",
    "        self._category_columns = category_columns\n",
    "        \n",
    "        self._imputer = SimpleImputer(missing_values=\"nan\",\n",
    "                                      strategy=\"constant\",\n",
    "                                      fill_value=\"missing\")\n",
    "        \n",
    "    @property \n",
    "    def category_columns(self):\n",
    "        return self._category_columns\n",
    "            \n",
    "    @property\n",
    "    def imputer(self):\n",
    "        return self._imputer\n",
    "    \n",
    "    def fit(self, X, y=None):\n",
    "        X_imputed = self.imputer.fit(X[self.category_columns])\n",
    "        return self\n",
    "        \n",
    "    def transform(self, X, y=None):\n",
    "        X_imputed = self.imputer.transform(X[self.category_columns])\n",
    "        X[self.category_columns] = X_imputed\n",
    "        return X\n",
    "        \n",
    "    \n",
    "features = scheduleDateTransformer().transform(df_x.head())\n",
    "features"
   ]
  },
  {
   "cell_type": "code",
   "execution_count": 168,
   "metadata": {},
   "outputs": [],
   "source": [
    "from sklearn.pipeline import Pipeline, FeatureUnion\n",
    "from sklearn.compose import ColumnTransformer\n",
    "from sklearn.preprocessing import OneHotEncoder\n",
    "from sklearn.impute import SimpleImputer\n",
    "\n",
    "from sklearn.linear_model import BayesianRidge"
   ]
  },
  {
   "cell_type": "code",
   "execution_count": 197,
   "metadata": {},
   "outputs": [
    {
     "name": "stderr",
     "output_type": "stream",
     "text": [
      "C:\\Users\\lodew\\anaconda3\\envs\\schiphol-py\\lib\\site-packages\\ipykernel_launcher.py:2: SettingWithCopyWarning: \n",
      "A value is trying to be set on a copy of a slice from a DataFrame.\n",
      "Try using .loc[row_indexer,col_indexer] = value instead\n",
      "\n",
      "See the caveats in the documentation: https://pandas.pydata.org/pandas-docs/stable/user_guide/indexing.html#returning-a-view-versus-a-copy\n",
      "  \n",
      "C:\\Users\\lodew\\anaconda3\\envs\\schiphol-py\\lib\\site-packages\\pandas\\core\\frame.py:2963: SettingWithCopyWarning: \n",
      "A value is trying to be set on a copy of a slice from a DataFrame.\n",
      "Try using .loc[row_indexer,col_indexer] = value instead\n",
      "\n",
      "See the caveats in the documentation: https://pandas.pydata.org/pandas-docs/stable/user_guide/indexing.html#returning-a-view-versus-a-copy\n",
      "  self[k1] = value[k2]\n",
      "C:\\Users\\lodew\\anaconda3\\envs\\schiphol-py\\lib\\site-packages\\ipykernel_launcher.py:71: SettingWithCopyWarning: \n",
      "A value is trying to be set on a copy of a slice from a DataFrame.\n",
      "Try using .loc[row_indexer,col_indexer] = value instead\n",
      "\n",
      "See the caveats in the documentation: https://pandas.pydata.org/pandas-docs/stable/user_guide/indexing.html#returning-a-view-versus-a-copy\n",
      "C:\\Users\\lodew\\anaconda3\\envs\\schiphol-py\\lib\\site-packages\\pandas\\core\\indexing.py:966: SettingWithCopyWarning: \n",
      "A value is trying to be set on a copy of a slice from a DataFrame.\n",
      "Try using .loc[row_indexer,col_indexer] = value instead\n",
      "\n",
      "See the caveats in the documentation: https://pandas.pydata.org/pandas-docs/stable/user_guide/indexing.html#returning-a-view-versus-a-copy\n",
      "  self.obj[item] = s\n"
     ]
    }
   ],
   "source": [
    "category_columns = [\"gate\", \"serviceType\"]\n",
    "df_x[\"gate\"] = df_x[\"gate\"].apply(lambda x: x[:-2])\n",
    "df_x[category_columns] = df_x[category_columns].astype(str)\n",
    "\n",
    "category_imputer =  categoryImputer(category_columns)\n",
    "\n",
    "schedule_transformer = ColumnTransformer([\n",
    "    ('schedule_date_features', scheduleDateTransformer(), ['scheduleDateTime'])\n",
    "])\n",
    "\n",
    "category_encoders = ColumnTransformer([\n",
    "    (f'{col}_encoder', OneHotEncoder(sparse=False), [col]) for col in category_columns\n",
    "])\n",
    "\n",
    "model = BayesianRidge()\n",
    "\n",
    "pipeline = Pipeline(\n",
    "    steps = [\n",
    "        ('category_imputer', category_imputer),\n",
    "        ('feature_union', FeatureUnion([\n",
    "            ('coltrans_schedule', schedule_transformer),\n",
    "            ('coltrans_encoders', category_encoders)\n",
    "        ])),\n",
    "        ('model', model)\n",
    "    ])\n",
    "\n",
    "pipeline = pipeline.fit(df_x, df_y)"
   ]
  },
  {
   "cell_type": "markdown",
   "metadata": {},
   "source": [
    "# Train/Test split"
   ]
  },
  {
   "cell_type": "code",
   "execution_count": 205,
   "metadata": {},
   "outputs": [
    {
     "name": "stdout",
     "output_type": "stream",
     "text": [
      "Train size:\n",
      "\tX: (199, 8)\n",
      "\ty: (199,)\n",
      "Test size:\n",
      "\tX: (796, 8)\n",
      "\ty: (796,)\n",
      "\n"
     ]
    }
   ],
   "source": [
    "from sklearn.model_selection import train_test_split\n",
    "X_train, X_test, y_train, y_test = train_test_split(df_x, df_y, test_size=0.8, random_state=101)\n",
    "print(\"Train size:\\n\"\n",
    "      f\"\\tX: {X_train.shape}\\n\"\n",
    "      f\"\\ty: {y_train.shape}\\n\"\n",
    "      \"Test size:\\n\"\n",
    "      f\"\\tX: {X_test.shape}\\n\"\n",
    "      f\"\\ty: {y_test.shape}\\n\")"
   ]
  },
  {
   "cell_type": "markdown",
   "metadata": {},
   "source": [
    "# Train model"
   ]
  },
  {
   "cell_type": "code",
   "execution_count": 224,
   "metadata": {},
   "outputs": [
    {
     "name": "stderr",
     "output_type": "stream",
     "text": [
      "C:\\Users\\lodew\\anaconda3\\envs\\schiphol-py\\lib\\site-packages\\ipykernel_launcher.py:71: SettingWithCopyWarning: \n",
      "A value is trying to be set on a copy of a slice from a DataFrame.\n",
      "Try using .loc[row_indexer,col_indexer] = value instead\n",
      "\n",
      "See the caveats in the documentation: https://pandas.pydata.org/pandas-docs/stable/user_guide/indexing.html#returning-a-view-versus-a-copy\n",
      "C:\\Users\\lodew\\anaconda3\\envs\\schiphol-py\\lib\\site-packages\\pandas\\core\\indexing.py:966: SettingWithCopyWarning: \n",
      "A value is trying to be set on a copy of a slice from a DataFrame.\n",
      "Try using .loc[row_indexer,col_indexer] = value instead\n",
      "\n",
      "See the caveats in the documentation: https://pandas.pydata.org/pandas-docs/stable/user_guide/indexing.html#returning-a-view-versus-a-copy\n",
      "  self.obj[item] = s\n",
      "C:\\Users\\lodew\\anaconda3\\envs\\schiphol-py\\lib\\site-packages\\ipykernel_launcher.py:71: SettingWithCopyWarning: \n",
      "A value is trying to be set on a copy of a slice from a DataFrame.\n",
      "Try using .loc[row_indexer,col_indexer] = value instead\n",
      "\n",
      "See the caveats in the documentation: https://pandas.pydata.org/pandas-docs/stable/user_guide/indexing.html#returning-a-view-versus-a-copy\n",
      "C:\\Users\\lodew\\anaconda3\\envs\\schiphol-py\\lib\\site-packages\\pandas\\core\\indexing.py:966: SettingWithCopyWarning: \n",
      "A value is trying to be set on a copy of a slice from a DataFrame.\n",
      "Try using .loc[row_indexer,col_indexer] = value instead\n",
      "\n",
      "See the caveats in the documentation: https://pandas.pydata.org/pandas-docs/stable/user_guide/indexing.html#returning-a-view-versus-a-copy\n",
      "  self.obj[item] = s\n"
     ]
    }
   ],
   "source": [
    "# train\n",
    "pipeline = pipeline.fit(X_train, y_train)\n",
    "# validate\n",
    "train_preds = pipeline.predict(X_train)"
   ]
  },
  {
   "cell_type": "code",
   "execution_count": 216,
   "metadata": {},
   "outputs": [
    {
     "data": {
      "text/plain": [
       "528.7738693467337"
      ]
     },
     "execution_count": 216,
     "metadata": {},
     "output_type": "execute_result"
    }
   ],
   "source": [
    "np.mean(train_preds)"
   ]
  },
  {
   "cell_type": "code",
   "execution_count": 217,
   "metadata": {},
   "outputs": [
    {
     "data": {
      "text/plain": [
       "528.7738693467337"
      ]
     },
     "execution_count": 217,
     "metadata": {},
     "output_type": "execute_result"
    }
   ],
   "source": [
    "np.mean(y_train)"
   ]
  },
  {
   "cell_type": "code",
   "execution_count": 218,
   "metadata": {},
   "outputs": [
    {
     "data": {
      "text/plain": [
       "828    -379.840349\n",
       "857     384.159651\n",
       "87      118.009494\n",
       "412    -163.930443\n",
       "270    -778.960474\n",
       "          ...     \n",
       "575     383.099589\n",
       "838    -366.840349\n",
       "337    1391.069557\n",
       "523     548.099589\n",
       "863    -198.840349\n",
       "Name: scheduleDelaySeconds, Length: 199, dtype: float64"
      ]
     },
     "execution_count": 218,
     "metadata": {},
     "output_type": "execute_result"
    }
   ],
   "source": [
    "y_train -train_preds"
   ]
  },
  {
   "cell_type": "code",
   "execution_count": null,
   "metadata": {},
   "outputs": [],
   "source": []
  },
  {
   "cell_type": "code",
   "execution_count": 222,
   "metadata": {},
   "outputs": [
    {
     "data": {
      "text/plain": [
       "<matplotlib.axes._subplots.AxesSubplot at 0x25f04e8e608>"
      ]
     },
     "execution_count": 222,
     "metadata": {},
     "output_type": "execute_result"
    },
    {
     "data": {
      "image/png": "[encoded data removed]",
      "text/plain": [
       "<Figure size 576x396 with 1 Axes>"
      ]
     },
     "metadata": {},
     "output_type": "display_data"
    }
   ],
   "source": [
    "import matplotlib.pyplot as plt\n",
    "import seaborn as sns\n",
    "sns.distplot(y_train - train_preds)"
   ]
  },
  {
   "cell_type": "code",
   "execution_count": 223,
   "metadata": {},
   "outputs": [
    {
     "data": {
      "text/plain": [
       "<matplotlib.axes._subplots.AxesSubplot at 0x25f04cd80c8>"
      ]
     },
     "execution_count": 223,
     "metadata": {},
     "output_type": "execute_result"
    },
    {
     "data": {
      "image/png": "[encoded data removed]",
      "text/plain": [
       "<Figure size 576x396 with 1 Axes>"
      ]
     },
     "metadata": {},
     "output_type": "display_data"
    }
   ],
   "source": [
    "sns.distplot(y_train - y_train.mean())"
   ]
  },
  {
   "cell_type": "code",
   "execution_count": 179,
   "metadata": {},
   "outputs": [
    {
     "data": {
      "text/plain": [
       "array([-6.24637976e-11,  7.67907759e+01, -3.52272110e+02, -9.69896002e+01,\n",
       "       -1.92737651e+02, -5.59847514e+02, -1.52316947e+02,  3.56845366e+00,\n",
       "       -3.20964581e+02, -6.83761739e+02, -1.24535775e+02, -3.27619998e+02,\n",
       "       -4.61502207e+02, -2.89774771e+02, -1.45592007e+01, -5.64908813e+02,\n",
       "       -9.48772718e+01, -5.00372620e+02,  9.12338278e+02, -1.57202508e+02,\n",
       "       -1.90846017e+02, -8.31951029e-01, -1.99444605e+02, -7.28945103e+02,\n",
       "        1.81956306e+02,  1.29323111e+02, -4.26268226e+02, -2.15399253e+02,\n",
       "       -3.50456426e+02, -5.41234098e+02,  4.83821914e+02, -4.12501442e+02,\n",
       "       -7.52120710e+02, -1.83860539e+01, -5.32129276e+02, -5.00292233e+02,\n",
       "        1.44394015e+03,  3.59547389e+01, -4.09400848e+02,  3.31510291e+02,\n",
       "       -5.53566496e+01, -2.71268200e+02, -5.79567712e+02, -1.66770716e+02,\n",
       "       -1.49291349e+02,  4.89041193e+01, -6.96845337e+02, -3.25761791e+02,\n",
       "        7.64577989e+01,  2.75626505e+02, -9.92654846e+01, -1.02519739e+01,\n",
       "       -6.81240894e+02, -3.78280504e+02,  1.34253702e+03, -3.92981915e+02,\n",
       "       -4.71105593e+02, -2.97777108e+02, -3.22122670e+02, -1.70836015e+02,\n",
       "       -3.11094163e+02, -3.20623827e+02,  1.54243606e+02,  2.67314298e+02,\n",
       "        4.92006477e+02, -2.26472087e+02, -1.54586595e+02,  1.03828036e+02,\n",
       "        3.07511174e+02,  3.28289879e+02,  3.70104728e+02, -6.65217263e+02,\n",
       "       -1.25104792e+02, -1.00526822e+02, -3.46682647e+02, -2.45957701e+02,\n",
       "       -3.92697539e+01,  4.23906558e+02,  3.27380190e+02,  1.62815673e+03,\n",
       "       -3.44601733e+02,  8.06168602e+02,  3.77734372e+02,  4.83156931e+02,\n",
       "        1.11563019e+03,  9.62312095e+01, -4.57942162e+01,  3.11544961e+02,\n",
       "       -4.92751503e+02,  4.57991590e+02,  4.90442403e+02, -2.57773378e+01,\n",
       "        2.51500003e+03, -1.83434760e+02, -2.15924969e+02,  3.19496607e+02,\n",
       "       -3.11540219e+02,  2.17758076e+03, -4.85515085e+02, -2.67144662e+02,\n",
       "        2.06246688e+02, -4.03065816e+02,  1.60214967e+03,  4.05300597e+02,\n",
       "       -8.61927471e+01,  3.29258954e+02, -4.09222790e+01, -2.97891488e+02,\n",
       "       -2.87501897e+02,  1.79520681e+01, -2.60146490e+02, -5.06375940e+02,\n",
       "        1.15564347e+02, -1.32270779e+02, -4.14423142e+01,  7.08923007e+02,\n",
       "       -1.54840900e+02,  2.06983213e+02,  1.05273252e+02,  2.84362687e+03,\n",
       "       -1.45811511e+02, -1.60827320e+02, -5.62028738e+01, -1.01171161e+02,\n",
       "       -2.00640154e+02, -1.01036365e+02, -1.63823477e+02,  1.67402545e+02,\n",
       "       -3.08892097e+02,  4.02388490e+02, -1.88080356e+02,  6.92376041e+01,\n",
       "       -2.40156368e+02, -1.74902880e+02, -1.59339240e+02, -3.13320565e+02,\n",
       "       -5.42171144e+01,  2.29054622e+02, -1.72032431e+02, -2.18989785e+02,\n",
       "       -1.38386712e+02, -2.19379583e+02, -3.09737107e+02, -2.79690887e+02,\n",
       "       -1.28613938e+02, -1.86443630e+02, -1.28927390e+02, -1.51161960e+02,\n",
       "       -1.53555440e+02,  3.13115869e+02,  1.19519189e+01, -1.54374936e+02,\n",
       "        2.28569343e+02, -1.68635611e+02, -1.58128649e+02,  2.77182939e+02,\n",
       "        8.80898763e+02, -1.52289494e+02, -2.15269138e+02,  2.17267006e+02,\n",
       "        5.60296015e+01, -6.29424606e+01, -5.77844137e+01, -1.63492631e+02,\n",
       "        1.89231281e+03, -1.62885608e+02, -1.97512185e+02, -3.53362922e+02,\n",
       "       -1.56156784e+02,  2.34248683e+02, -6.69704141e+01, -4.71347404e+02,\n",
       "       -3.58537595e+02, -2.00337532e+02, -1.18317506e+02, -2.48796699e+02,\n",
       "       -1.54586595e+02, -1.91668935e+02, -1.44072483e+02,  4.32107711e+02,\n",
       "        1.89231281e+03,  2.84362687e+03, -2.00337532e+02,  2.06983213e+02,\n",
       "       -1.97512185e+02, -1.45811511e+02, -1.60827320e+02, -1.28613938e+02,\n",
       "       -5.77844137e+01, -2.00640154e+02, -1.63823477e+02, -1.91668935e+02,\n",
       "        1.67402545e+02, -7.13818114e+02, -1.01036365e+02, -3.08892097e+02,\n",
       "       -1.88080356e+02, -1.52289494e+02, -2.40156368e+02,  6.92376041e+01,\n",
       "        4.02388490e+02, -2.15269138e+02, -1.74902880e+02,  5.60296015e+01,\n",
       "       -1.68635611e+02, -1.59339240e+02,  3.13115869e+02, -5.42171144e+01,\n",
       "        2.28569343e+02, -1.72032431e+02, -3.13320565e+02, -4.71347404e+02,\n",
       "       -1.01171161e+02, -1.38386712e+02, -2.18989785e+02, -1.18317506e+02,\n",
       "       -2.79690887e+02, -3.09737107e+02, -1.54840900e+02, -2.82760858e+03,\n",
       "       -1.86443630e+02, -1.28927390e+02, -1.51161960e+02, -1.53555440e+02,\n",
       "        1.19519189e+01, -1.58128649e+02,  2.77182939e+02,  8.80898763e+02,\n",
       "       -1.44072483e+02, -6.29424606e+01, -1.63492631e+02, -1.62885608e+02,\n",
       "       -3.53362922e+02, -1.54374936e+02, -6.69704141e+01,  2.17267006e+02,\n",
       "        1.05273252e+02, -1.56156784e+02, -2.19379583e+02,  2.34248683e+02,\n",
       "        2.29054622e+02, -3.58537595e+02, -2.48796699e+02, -1.54586595e+02,\n",
       "        3.97353440e+03, -5.62028738e+01, -8.07842588e+02,  1.31312122e+02,\n",
       "        9.89195809e+01,  1.45503174e+02,  4.32107711e+02])"
      ]
     },
     "execution_count": 179,
     "metadata": {},
     "output_type": "execute_result"
    }
   ],
   "source": [
    "model.coef_"
   ]
  },
  {
   "cell_type": "code",
   "execution_count": null,
   "metadata": {},
   "outputs": [],
   "source": []
  },
  {
   "cell_type": "code",
   "execution_count": 64,
   "metadata": {},
   "outputs": [
    {
     "data": {
      "text/plain": [
       "0      480.0\n",
       "1       98.0\n",
       "2      300.0\n",
       "3      300.0\n",
       "4     -694.0\n",
       "       ...  \n",
       "990   -197.0\n",
       "991   -197.0\n",
       "992   -197.0\n",
       "993   -197.0\n",
       "994   -400.0\n",
       "Name: scheduleDelay, Length: 995, dtype: float64"
      ]
     },
     "execution_count": 64,
     "metadata": {},
     "output_type": "execute_result"
    }
   ],
   "source": [
    "df_preprocessed[\"scheduleDelay\"].dt.total_seconds()"
   ]
  },
  {
   "cell_type": "code",
   "execution_count": 23,
   "metadata": {},
   "outputs": [
    {
     "data": {
      "text/plain": [
       "0                                   NaN\n",
       "1                                   NaN\n",
       "2                                   NaN\n",
       "3         2018-01-01T03:22:00.000+01:00\n",
       "4         2018-01-01T05:58:22.000+01:00\n",
       "                      ...              \n",
       "523270                              NaN\n",
       "523271                              NaN\n",
       "523272                              NaN\n",
       "523273                              NaN\n",
       "523274                              NaN\n",
       "Name: actualOffBlockTime, Length: 523275, dtype: object"
      ]
     },
     "execution_count": 23,
     "metadata": {},
     "output_type": "execute_result"
    }
   ],
   "source": [
    "df_y = df[\"actualOffBlockTime\"]\n",
    "df_y"
   ]
  },
  {
   "cell_type": "code",
   "execution_count": 12,
   "metadata": {},
   "outputs": [
    {
     "data": {
      "text/plain": [
       "(487716, 3)"
      ]
     },
     "execution_count": 12,
     "metadata": {},
     "output_type": "execute_result"
    }
   ],
   "source": [
    "df[[\"scheduleDate\", \"scheduleTime\", \"actualOffBlockTime\"]].dropna().shape"
   ]
  },
  {
   "cell_type": "code",
   "execution_count": null,
   "metadata": {},
   "outputs": [],
   "source": []
  }
 ],
 "metadata": {
  "kernelspec": {
   "display_name": "Python [conda env:schiphol-py]",
   "language": "python",
   "name": "conda-env-schiphol-py-py"
  },
  "language_info": {
   "codemirror_mode": {
    "name": "ipython",
    "version": 3
   },
   "file_extension": ".py",
   "mimetype": "text/x-python",
   "name": "python",
   "nbconvert_exporter": "python",
   "pygments_lexer": "ipython3",
   "version": "3.7.7"
  }
 },
 "nbformat": 4,
 "nbformat_minor": 4
}
