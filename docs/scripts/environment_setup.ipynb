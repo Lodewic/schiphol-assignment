{
 "cells": [
  {
   "cell_type": "markdown",
   "metadata": {},
   "source": [
    "# Environment setup"
   ]
  },
  {
   "cell_type": "markdown",
   "metadata": {},
   "source": [
    "This notebook is a utility to setup your conda environments for local development.\n",
    "For this project we will use 4 conda environments,\n",
    "\n",
    "1. schiphol-snakemake: Snakemake and papermill to execute notebooks as scripts in a pipeline\n",
    "2. schiphol-py: environment with which to execute Python notebooks with datascience tools like pandas, sklearn, xgboost, etc.\n",
    "3. schiphol-r: environment with R packages for exploratory analyses and R time-series forecasting\n",
    "3. schiphol-tf: environment with Tensorflow and Tensorflow-probability separate from other packages to avoid conflicts\n",
    "\n",
    "When using [papermill CLI](https://papermill.readthedocs.io/en/latest/usage-cli.html) we can pass a `--kernel` argument that specifies a kernel to use for executing a target notebook. Together with conda we can make our environments available as a `kernel`, but this requires some repetitive setup. \n",
    "\n",
    "This notebook describes how to install all conda environments and make them available as a kernel."
   ]
  },
  {
   "cell_type": "markdown",
   "metadata": {},
   "source": [
    "## Conda environments\n",
    "\n",
    "Each environment is created from a file under `./envs/`. \n",
    "\n",
    "We then add each kernel to a list of kernels recognized by jupyter, so that `papermill` can run notebooks with specified conda environments."
   ]
  },
  {
   "cell_type": "code",
   "execution_count": 17,
   "metadata": {},
   "outputs": [],
   "source": [
    "from pathlib import Path"
   ]
  },
  {
   "cell_type": "code",
   "execution_count": 16,
   "metadata": {},
   "outputs": [
    {
     "name": "stdout",
     "output_type": "stream",
     "text": [
      "conda env create -f ./envs/schiphol-snakemake.yml\n",
      "conda env create -f ./envs/schiphol-py.yml\n",
      "conda env create -f ./envs/schiphol-r.yml\n",
      "conda env create -f ./envs/schiphol-tf.yml\n",
      "\n",
      "conda deactivate\n",
      "conda activate schiphol-snakemake\n",
      "python -m ipykernel install --user --name schiphol-snakemake --display-name \"Python (schiphol-snakemake)\"\n",
      "conda deactivate\n",
      "\n",
      "conda deactivate\n",
      "conda activate schiphol-py\n",
      "python -m ipykernel install --user --name schiphol-py --display-name \"Python (schiphol-py)\"\n",
      "conda deactivate\n",
      "\n",
      "conda deactivate\n",
      "conda activate schiphol-r\n",
      "python -m ipykernel install --user --name schiphol-r --display-name \"Python (schiphol-r)\"\n",
      "conda deactivate\n",
      "\n",
      "conda deactivate\n",
      "conda activate schiphol-tf\n",
      "python -m ipykernel install --user --name schiphol-tf --display-name \"Python (schiphol-tf)\"\n",
      "conda deactivate\n",
      "\n"
     ]
    }
   ],
   "source": [
    "env_file_dir = \"./envs/\"\n",
    "conda_envs = [\"schiphol-snakemake\", \"schiphol-py\", \"schiphol-r\", \"schiphol-tf\"]\n",
    "\n",
    "for conda_env in conda_envs:\n",
    "    env_file = Path(env_file_dir, conda_env + \".yml\")\n",
    "    print(f\"conda env create -f {env_file_dir}{conda_env}.yml\")\n",
    "\n",
    "print()\n",
    "\n",
    "for conda_env in conda_envs:\n",
    "    env_file = Path(env_file_dir, conda_env + \".yml\")\n",
    "\n",
    "    print(\n",
    "          f\"conda deactivate\\n\"\n",
    "          f\"conda activate {conda_env}\\n\"\n",
    "          f'python -m ipykernel install --user --name {conda_env} --display-name \"Python ({conda_env})\"\\n'\n",
    "          f\"conda deactivate\\n\"\n",
    "    )\n",
    "\n",
    "# check if all 4 environments are added to the kernels\n",
    "!jupyter kernelspec list\n"
   ]
  },
  {
   "cell_type": "markdown",
   "metadata": {},
   "source": [
    "## Docker image"
   ]
  },
  {
   "cell_type": "markdown",
   "metadata": {},
   "source": [
    "Build locally, but note that the build is time-consuming as we are installing 3 separate conda environments into the container.\n",
    "\n",
    "```\n",
    "docker build -t schiphol .\n",
    "```\n",
    "\n",
    "The Docker container will execute `snakemake` when you run the container, but for this you need to be authenticated for write access to the Google Cloud Storage where data is located.\n",
    "Read access is already public.\n",
    "\n",
    "Assuming that you have a folder named `keys/` in this project root directory, you must mount it alongside the rest of the project when you run the container.\n",
    "Because we are mounting the service-account key with write-access we can now execute Snakemake with the Docker container.\n",
    "\n",
    "```\n",
    "docker run -v {$pwd}:/project/ schiphol\n",
    "```"
   ]
  }
 ],
 "metadata": {
  "kernelspec": {
   "display_name": "Python 3",
   "language": "python",
   "name": "python3"
  },
  "language_info": {
   "codemirror_mode": {
    "name": "ipython",
    "version": 3
   },
   "file_extension": ".py",
   "mimetype": "text/x-python",
   "name": "python",
   "nbconvert_exporter": "python",
   "pygments_lexer": "ipython3",
   "version": "3.7.6"
  },
  "widgets": {
   "application/vnd.jupyter.widget-state+json": {
    "state": {},
    "version_major": 2,
    "version_minor": 0
   }
  }
 },
 "nbformat": 4,
 "nbformat_minor": 4
}
