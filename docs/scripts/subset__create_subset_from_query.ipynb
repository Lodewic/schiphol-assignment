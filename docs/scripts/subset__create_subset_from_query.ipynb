{
 "cells": [
  {
   "cell_type": "code",
   "execution_count": 1,
   "metadata": {},
   "outputs": [],
   "source": [
    "%load_ext autoreload\n",
    "%autoreload 2"
   ]
  },
  {
   "cell_type": "markdown",
   "metadata": {},
   "source": [
    "### Parameters\n",
    "\n",
    "-------------------\n",
    "- `input_file`: Filepath of input data we want to subset\n",
    "- `output_file`: Filepath to write output subset data csv file\n",
    "- `query_string`: Query string for selecting a subset data, based on pandas.DataFrame.query function\n",
    "- `credentials`: (OPTIONAL) local file with credentials to connect to Google Storage. Set this to None if set outside of script\n",
    "\n",
    "#### Returns\n",
    "\n",
    "-----------------\n",
    "Output data subset file written to `output_file`"
   ]
  },
  {
   "cell_type": "code",
   "execution_count": 21,
   "metadata": {
    "tags": [
     "parameters"
    ]
   },
   "outputs": [],
   "source": [
    "input_file = \"gs://knsb-times-data/model_input/features/competition_distance_gender.csv\"\n",
    "output_file = \"subset.csv\"\n",
    "query_string= 'Gender == \"men\" & Discipline == \"SpeedSkating.LongTrack.PairsDistance.Individual\" & Value==\"5000\"'\n",
    "credentials = \"../keys/data-access.json\""
   ]
  },
  {
   "cell_type": "markdown",
   "metadata": {},
   "source": [
    "### Load Libraries"
   ]
  },
  {
   "cell_type": "code",
   "execution_count": 26,
   "metadata": {},
   "outputs": [],
   "source": [
    "import sys, os\n",
    "import pandas as pd\n",
    "import numpy as np\n",
    "from google.cloud import storage\n",
    "\n",
    "sys.path.append(\"../\")\n",
    "\n",
    "from src.data.google_storage_io import read_csv_data, write_csv_data"
   ]
  },
  {
   "cell_type": "markdown",
   "metadata": {},
   "source": [
    "### Create Subset"
   ]
  },
  {
   "cell_type": "code",
   "execution_count": 27,
   "metadata": {},
   "outputs": [
    {
     "name": "stdout",
     "output_type": "stream",
     "text": [
      "Reading file from Google Storage\n",
      "Bucket:\tknsb-times-data\n",
      "File:\tmodel_input/features/competition_distance_gender.csv\n",
      "\n"
     ]
    }
   ],
   "source": [
    "input_df = read_csv_data(input_file)\n",
    "subset_df = input_df.query(query_string)\n",
    "subset_df = subset_df[['RaceId']].reset_index(drop=True)"
   ]
  },
  {
   "cell_type": "markdown",
   "metadata": {},
   "source": [
    "### Analyze Subset"
   ]
  },
  {
   "cell_type": "code",
   "execution_count": 31,
   "metadata": {},
   "outputs": [
    {
     "data": {
      "text/plain": [
       "(5562, 9)"
      ]
     },
     "execution_count": 31,
     "metadata": {},
     "output_type": "execute_result"
    }
   ],
   "source": [
    "input_df.shape"
   ]
  },
  {
   "cell_type": "code",
   "execution_count": 32,
   "metadata": {},
   "outputs": [
    {
     "data": {
      "text/plain": [
       "(386, 1)"
      ]
     },
     "execution_count": 32,
     "metadata": {},
     "output_type": "execute_result"
    }
   ],
   "source": [
    "subset_df.shape"
   ]
  },
  {
   "cell_type": "markdown",
   "metadata": {},
   "source": [
    "### Write Subset"
   ]
  },
  {
   "cell_type": "code",
   "execution_count": null,
   "metadata": {},
   "outputs": [],
   "source": [
    "write_csv_data(subset_df, output_file)"
   ]
  }
 ],
 "metadata": {
  "celltoolbar": "Tags",
  "kernelspec": {
   "display_name": "Python (knsb-times)",
   "language": "python",
   "name": "knsb-times"
  },
  "language_info": {
   "codemirror_mode": {
    "name": "ipython",
    "version": 3
   },
   "file_extension": ".py",
   "mimetype": "text/x-python",
   "name": "python",
   "nbconvert_exporter": "python",
   "pygments_lexer": "ipython3",
   "version": "3.7.3"
  }
 },
 "nbformat": 4,
 "nbformat_minor": 4
}
